{
 "cells": [
  {
   "cell_type": "code",
   "execution_count": 37,
   "id": "a92635f9",
   "metadata": {},
   "outputs": [],
   "source": [
    "import chess.pgn\n",
    "import pandas as pd\n",
    "import matplotlib.pyplot as plt\n",
    "import numpy as np\n",
    "import lichess.api\n",
    "from lichess.format import PGN\n",
    "import json\n",
    "\n",
    "pgn = open(\"lichess_db_standard_rated_2016-05.pgn\")\n",
    "#print(len(pgn))\n",
    "users = {}\n",
    "#dfGames = pd.DataFrame(columns = ['Event', 'White', 'Black', 'Opening', 'WhiteElo', 'BlackElo'])\n",
    "games_arr = []\n",
    "for x in range(6000000):\n",
    "    headers = chess.pgn.read_headers(pgn)\n",
    "    opening = headers.get('Opening').split(':')[0]\n",
    "    opening = opening.split(' #')[0]\n",
    "    if headers.get('Event') == \"Rated Classical game\":\n",
    "        row = [headers.get('Event'), headers.get('White'), headers.get('Black'), opening, headers.get('WhiteElo'), headers.get('BlackElo')]\n",
    "        games_arr.append(row)\n",
    "        #dfGames = dfGames.append(pd.Series(row, index = ['Event', 'White', 'Black', 'Opening', 'WhiteElo', 'BlackElo']), ignore_index = True)\n",
    "        \n",
    "        if users.get(headers.get('White')):\n",
    "            users[headers.get('White')].append(opening)\n",
    "        else:\n",
    "            users[headers.get('White')] = [opening]\n",
    "        \n",
    "        if users.get(headers.get('Black')):\n",
    "            users[headers.get('Black')].append(opening)\n",
    "        else:\n",
    "            users[headers.get('Black')] = [opening]\n",
    "            \n",
    "# dfGames.to_csv('out.csv', encoding='utf-8', index=False)\n",
    "with open('users.json','w') as data: \n",
    "    json.dump(users, data)"
   ]
  },
  {
   "cell_type": "code",
   "execution_count": 23,
   "id": "8f3f8eae",
   "metadata": {},
   "outputs": [
    {
     "name": "stdout",
     "output_type": "stream",
     "text": [
      "39.62776699798044\n"
     ]
    }
   ],
   "source": [
    "from lichess.format import PYCHESS\n",
    "basket_size_sum = 0\n",
    "count = 0\n",
    "for k in users:\n",
    "    count += 1\n",
    "    basket_size_sum += len(users[k])\n",
    "    \n",
    "print(basket_size_sum/count)"
   ]
  },
  {
   "cell_type": "code",
   "execution_count": 7,
   "id": "0970f485",
   "metadata": {},
   "outputs": [],
   "source": [
    "basketMap = {}\n",
    "for user in users:\n",
    "    try:\n",
    "        pgns = lichess.api.user_games(user, max=20, format=PYCHESS)\n",
    "    except:\n",
    "        continue\n",
    "    openings = set()\n",
    "    for pgn in pgns:\n",
    "        if pgn.headers.get('Event') == \"Rated Classical game\":\n",
    "            #print(pgn.headers.get('Opening'))\n",
    "            openings.add(pgn.headers.get('Opening'))\n",
    "    basketMap[user] = list(openings)"
   ]
  },
  {
   "cell_type": "code",
   "execution_count": 3,
   "id": "b01cc604",
   "metadata": {},
   "outputs": [
    {
     "name": "stdout",
     "output_type": "stream",
     "text": [
      "Headers(Event='Rated Bullet tournament https://lichess.org/tournament/IaRkDsvp', Site='https://lichess.org/r0cYFhsy', White='GreatGig', Black='hackattack', Result='0-1', BlackElo='1809', BlackRatingDiff='+11', ECO='B01', Opening='Scandinavian Defense: Mieses-Kotroc Variation', Termination='Time forfeit', TimeControl='60+0', UTCDate='2016.04.30', UTCTime='22:00:03', WhiteElo='1777', WhiteRatingDiff='-11')\n",
      "GreatGig\n"
     ]
    }
   ],
   "source": [
    "import chess.pgn\n",
    "pgn = open(\"lichess_db_standard_rated_2016-05.pgn\")\n",
    "for x in range(1):\n",
    "    headers = chess.pgn.read_headers(pgn)\n",
    "print(headers)\n",
    "print(headers.get('White'))"
   ]
  },
  {
   "cell_type": "code",
   "execution_count": 40,
   "id": "80ea0fff",
   "metadata": {},
   "outputs": [],
   "source": [
    "dfGames = pd.DataFrame(games_arr, columns = ['Event', 'White', 'Black', 'Opening', 'WhiteElo', 'BlackElo'])"
   ]
  },
  {
   "cell_type": "code",
   "execution_count": 41,
   "id": "35d0b391",
   "metadata": {},
   "outputs": [
    {
     "name": "stdout",
     "output_type": "stream",
     "text": [
      "1501080\n"
     ]
    }
   ],
   "source": [
    "print(len(games_arr))\n",
    "dfGames.to_csv('out.csv', encoding='utf-8', index=False)"
   ]
  },
  {
   "cell_type": "code",
   "execution_count": 27,
   "id": "e146b511",
   "metadata": {},
   "outputs": [
    {
     "name": "stdout",
     "output_type": "stream",
     "text": [
      "['Owen Defense', \"King's Knight Opening: Normal Variation\", 'Philidor Defense #3', 'Ruy Lopez: Steinitz Defense', 'Ruy Lopez: Steinitz Defense', 'Philidor Defense #3', 'Russian Game: Three Knights Game', \"Van't Kruijs Opening\", 'Italian Game', 'Scotch Game', 'Zukertort Opening', 'Alekhine Defense', 'Caro-Kann Defense', \"Queen's Pawn Game: Symmetrical Variation\", 'Three Knights Opening', 'Italian Game: Anti-Fried Liver Defense', 'Ruy Lopez: Steinitz Defense', \"Bishop's Opening: Vienna Hybrid\", \"Italian Game: Two Knights Defense, Modern Bishop's Opening\", 'Sicilian Defense: Bowdler Attack', 'Philidor Defense #3', 'Italian Game: Anti-Fried Liver Defense', 'Philidor Defense #3', \"King's Pawn Game: Wayward Queen Attack, Kiddie Countergambit\", \"King's Pawn Game: McConnell Defense\", 'Italian Game: Anti-Fried Liver Defense', \"Van't Kruijs Opening\", 'Sicilian Defense: Bowdler Attack', \"Queen's Gambit Accepted\", 'Scotch Game', 'French Defense: Exchange Variation', 'Philidor Defense #3', 'Italian Game: Anti-Fried Liver Defense', 'Ruy Lopez: Steinitz Defense', 'French Defense: Normal Variation', 'Vienna Game: Mengarini Variation', 'Italian Game: Anti-Fried Liver Defense', 'Italian Game: Anti-Fried Liver Defense', 'Italian Game: Anti-Fried Liver Defense', 'French Defense: Exchange Variation', \"Queen's Pawn Game: Zukertort Variation\", 'Sicilian Defense: Bowdler Attack', \"King's Pawn Game: McConnell Defense\", \"Queen's Gambit Accepted\", 'Reti Opening #2', 'Four Knights Game: Italian Variation', 'Scotch Game', \"King's Pawn Game: Dresden Opening\", 'Czech Defense', 'Sicilian Defense: Bowdler Attack', 'Scotch Game', 'Ruy Lopez: Steinitz Defense', 'Russian Game: Three Knights Game', \"Queen's Gambit Accepted: Accelerated Mannheim Variation\", 'Russian Game: Three Knights Game', 'Italian Game: Anti-Fried Liver Defense', 'Italian Game: Anti-Fried Liver Defense', 'Italian Game: Anti-Fried Liver Defense', 'Scandinavian Defense: Mieses-Kotroc Variation', \"King's Gambit Accepted, King's Knight Gambit\", 'Philidor Defense #3', 'Italian Game: Anti-Fried Liver Defense', 'Philidor Defense #3', 'Russian Game: Three Knights Game', 'Ruy Lopez: Steinitz Defense', 'Ruy Lopez: Steinitz Defense', 'Sicilian Defense', 'Italian Game: Anti-Fried Liver Defense', 'Danish Gambit Accepted, Copenhagen Defense', 'Italian Game', \"Italian Game: Two Knights Defense, Modern Bishop's Opening\", 'Vienna Game: Mengarini Variation', 'Scandinavian Defense: Main Line', 'French Defense: Exchange Variation', 'Ruy Lopez: Steinitz Defense', \"Queen's Gambit Accepted\", 'Elephant Gambit', 'Clemenz Opening', \"King's Knight Opening: Normal Variation\", 'Sicilian Defense: Bowdler Attack', 'Indian Game: Wade-Tartakower Defense', 'Italian Game: Giuoco Pianissimo, Normal', 'Italian Game: Anti-Fried Liver Defense', \"Bishop's Opening\", 'Sicilian Defense: Bowdler Attack', 'Caro-Kann Defense: Hillbilly Attack', \"Queen's Gambit Accepted: Old Variation\", \"Queen's Gambit Accepted: Old Variation\", 'Italian Game: Giuoco Pianissimo, Normal', 'Englund Gambit Declined, Reversed French', \"King's Knight Opening\", \"Queen's Pawn Game\", 'Russian Game: Urusov Gambit', 'Italian Game: Anti-Fried Liver Defense', 'Philidor Defense #4', \"Queen's Pawn Game: Veresov Attack, Alburt Defense\", 'Italian Game: Hungarian Defense', 'Three Knights Opening', 'Philidor Defense #3', 'Italian Game: Anti-Fried Liver Defense', 'Scandinavian Defense: Mieses-Kotroc Variation', 'Scandinavian Defense: Mieses-Kotroc Variation', \"Queen's Gambit Accepted: Old Variation\", 'Ruy Lopez: Steinitz Defense', \"King's Pawn Game: McConnell Defense\", 'Ruy Lopez: Steinitz Defense', 'Sicilian Defense: Bowdler Attack', 'Italian Game: Anti-Fried Liver Defense', 'Ruy Lopez: Steinitz Defense', 'Pirc Defense #4', \"King's Knight Opening\", \"English Opening: King's English Variation\", 'Italian Game: Giuoco Pianissimo', 'Russian Game: Urusov Gambit', \"Queen's Gambit Accepted: Old Variation\", 'Italian Game: Two Knights Defense, Fried Liver Attack', 'Ruy Lopez: Steinitz Defense', 'Four Knights Game: Italian Variation', \"Queen's Gambit Accepted\", 'Italian Game: Two Knights Defense, Ponziani-Steinitz Gambit', 'Mieses Opening', 'Four Knights Game: Italian Variation', 'Sicilian Defense: Bowdler Attack', 'Ruy Lopez: Steinitz Defense', 'Italian Game: Two Knights Defense, Knight Attack, Normal Variation', 'Italian Game: Anti-Fried Liver Defense', 'Italian Game: Anti-Fried Liver Defense', 'French Defense: Exchange Variation', 'Scandinavian Defense: Mieses-Kotroc Variation', 'Italian Game', \"Bishop's Opening\", \"Queen's Pawn Game: Zukertort Variation\", \"Queen's Pawn Game: Zukertort Variation\", 'Grob Opening', 'Scandinavian Defense: Main Line', 'Italian Game', \"Bishop's Opening\", 'Italian Game: Giuoco Pianissimo, Normal', 'Three Knights Opening', 'Englund Gambit Declined, Reversed French', 'Sicilian Defense: Bowdler Attack', 'Italian Game: Anti-Fried Liver Defense', 'French Defense: Exchange Variation', 'Italian Game', \"Bishop's Opening\", \"King's Pawn Game: McConnell Defense\", 'Scandinavian Defense: Mieses-Kotroc Variation', 'Vienna Game: Anderssen Defense', 'Philidor Defense #3', 'Vienna Game: Mengarini Variation', 'Italian Game: Giuoco Pianissimo, Normal', \"Bishop's Opening\", \"Queen's Gambit Accepted\", 'Scandinavian Defense: Mieses-Kotroc Variation', 'Clemenz Opening', \"Italian Game: Two Knights Defense, Modern Bishop's Opening\", 'Italian Game: Anti-Fried Liver Defense', 'Italian Game: Schilling-Kostic Gambit', 'Italian Game: Anti-Fried Liver Defense', 'Modern Defense', 'Italian Game: Anti-Fried Liver Defense', 'Italian Game: Anti-Fried Liver Defense', 'Philidor Defense #3', 'Three Knights Opening', \"King's Pawn Game: Damiano Defense\", \"Queen's Pawn Game\", 'French Defense: Exchange Variation', \"Queen's Pawn Game: Veresov Attack, Alburt Defense\", \"Italian Game: Two Knights Defense, Modern Bishop's Opening\", 'Scotch Game', 'Four Knights Game: Italian Variation', 'Center Game: Paulsen Attack Variation', 'Nimzowitsch Defense', 'Philidor Defense #3', 'Italian Game: Anti-Fried Liver Defense', 'Scandinavian Defense: Mieses-Kotroc Variation', 'Italian Game: Anti-Fried Liver Defense', 'Russian Game: Three Knights Game', 'Kadas Opening', 'Scotch Game', 'Italian Game: Giuoco Pianissimo', 'Italian Game: Anti-Fried Liver Defense', 'Italian Game: Giuoco Pianissimo', 'Alekhine Defense: Normal Variation', 'Ruy Lopez: Morphy Defense, Modern Steinitz Defense', 'Italian Game: Anti-Fried Liver Defense', \"Queen's Gambit Accepted: Normal Variation\", 'Sicilian Defense: Bowdler Attack', \"Queen's Gambit Accepted: Old Variation\", 'French Defense: Exchange Variation', 'Italian Game: Anti-Fried Liver Defense', 'Russian Game: Three Knights Game', 'Three Knights Opening', 'Italian Game: Schilling-Kostic Gambit', \"King's Pawn Game: Wayward Queen Attack\", \"French Defense: Queen's Knight\", \"English Opening: King's English Variation, Reversed Sicilian\", 'Italian Game: Anti-Fried Liver Defense', 'Scandinavian Defense: Mieses-Kotroc Variation', 'Amazon Attack', 'Scandinavian Defense: Mieses-Kotroc Variation', 'Italian Game: Anti-Fried Liver Defense', 'Caro-Kann Defense: Hillbilly Attack', 'Italian Game: Anti-Fried Liver Defense', 'Three Knights Opening', 'Philidor Defense #3', 'Italian Game: Anti-Fried Liver Defense', \"King's Knight Opening: Konstantinopolsky\", \"King's Pawn Game: Damiano Defense\", 'Italian Game: Anti-Fried Liver Defense', 'Sicilian Defense: Bowdler Attack', 'Three Knights Opening', 'French Defense #2', 'Ruy Lopez: Morphy Defense, Modern Steinitz Defense', \"Queen's Pawn Game: Colle System, Anti-Colle\", 'Sicilian Defense: Bowdler Attack', 'Sicilian Defense: Bowdler Attack', 'Four Knights Game: Italian Variation', 'Scotch Game', 'Scandinavian Defense: Gubinsky-Melts Defense', 'Italian Game: Anti-Fried Liver Defense', 'Italian Game: Anti-Fried Liver Defense', 'Italian Game: Anti-Fried Liver Defense', 'Italian Game: Anti-Fried Liver Defense', \"Queen's Pawn Game: Zukertort Variation\", 'Goldsmith Defense', \"Italian Game: Two Knights Defense, Modern Bishop's Opening\", 'Bird Opening', \"Italian Game: Two Knights Defense, Modern Bishop's Opening\", 'Vienna Game: Vienna Gambit', \"Queen's Pawn Game: Veresov Attack, Alburt Defense\", \"King's Knight Opening\", 'Scandinavian Defense: Mieses-Kotroc Variation', \"Queen's Pawn Game\", 'Italian Game: Schilling-Kostic Gambit', \"King's Knight Opening: Normal Variation\", 'Russian Game: Urusov Gambit', 'Italian Game: Anti-Fried Liver Defense', 'Italian Game: Anti-Fried Liver Defense', \"Queen's Pawn Game: Veresov Attack, Alburt Defense\", 'Scandinavian Defense: Mieses-Kotroc Variation', 'Philidor Defense #3', 'Danish Gambit Accepted', \"French Defense: Queen's Knight\", 'Scotch Game', 'Philidor Defense #3', \"Bishop's Opening\", 'Philidor Defense #3', \"English Opening: King's English Variation, Four Knights Variation, Fianchetto Line\", 'Italian Game: Anti-Fried Liver Defense', 'Nimzowitsch Defense', 'Scandinavian Defense: Modern Variation #2', \"Queen's Pawn Game #2\", 'Four Knights Game: Italian Variation', 'Ponziani Opening: Jaenisch Counterattack', 'Philidor Defense #3', 'Pirc Defense #4', 'Three Knights Opening', 'Sicilian Defense: Bowdler Attack', \"King's Gambit Accepted, Bishop's Gambit\", \"Queen's Pawn Game\", 'Pirc Defense #4', \"King's Pawn Game: Macleod Attack\", 'Caro-Kann Defense', \"Queen's Gambit Accepted: Old Variation\", 'Italian Game: Hungarian Defense', 'Sicilian Defense: Bowdler Attack', \"Van't Kruijs Opening\", 'Danish Gambit', 'Scandinavian Defense: Mieses-Kotroc Variation', 'Italian Game: Anti-Fried Liver Defense', 'Italian Game: Anti-Fried Liver Defense', 'Caro-Kann Defense: Hillbilly Attack', 'Italian Game: Anti-Fried Liver Defense', 'Alekhine Defense', 'Three Knights Opening', 'French Defense: Advance Variation #3', \"King's Pawn Game: Leonardis Variation\", \"King's Pawn Game: Napoleon Attack\", 'Italian Game: Anti-Fried Liver Defense', 'Ruy Lopez: Steinitz Defense']\n"
     ]
    }
   ],
   "source": [
    "from itertools import islice\n",
    "\n",
    "for item in islice(users, 1):\n",
    "    print(users[item])"
   ]
  },
  {
   "cell_type": "code",
   "execution_count": 42,
   "id": "4df1aa71",
   "metadata": {},
   "outputs": [
    {
     "name": "stdout",
     "output_type": "stream",
     "text": [
      "['Owen Defense', \"King's Knight Opening\", 'Philidor Defense', 'Ruy Lopez', 'Ruy Lopez', 'Philidor Defense', 'Russian Game', \"Van't Kruijs Opening\", 'Italian Game', 'Scotch Game', 'Zukertort Opening', 'Alekhine Defense', 'Caro-Kann Defense', \"Queen's Pawn Game\", 'Three Knights Opening', 'Italian Game', 'Ruy Lopez', \"Bishop's Opening\", 'Italian Game', 'Sicilian Defense', 'Philidor Defense', 'Italian Game', 'Philidor Defense', \"King's Pawn Game\", \"King's Pawn Game\", 'Italian Game', \"Van't Kruijs Opening\", 'Sicilian Defense', \"Queen's Gambit Accepted\", 'Scotch Game', 'French Defense', 'Philidor Defense', 'Italian Game', 'Ruy Lopez', 'French Defense', 'Vienna Game', 'Italian Game', 'Italian Game', 'Italian Game', 'French Defense', \"Queen's Pawn Game\", 'Sicilian Defense', \"King's Pawn Game\", \"Queen's Gambit Accepted\", 'Reti Opening', 'Four Knights Game', 'Scotch Game', \"King's Pawn Game\", 'Czech Defense', 'Sicilian Defense', 'Scotch Game', 'Ruy Lopez', 'Russian Game', \"Queen's Gambit Accepted\", 'Russian Game', 'Italian Game', 'Italian Game', 'Italian Game', 'Scandinavian Defense', \"King's Gambit Accepted, King's Knight Gambit\", 'Philidor Defense', 'Italian Game', 'Philidor Defense', 'Russian Game', 'Ruy Lopez', 'Ruy Lopez', 'Sicilian Defense', 'Italian Game', 'Danish Gambit Accepted, Copenhagen Defense', 'Italian Game', 'Italian Game', 'Vienna Game', 'Scandinavian Defense', 'French Defense', 'Ruy Lopez', \"Queen's Gambit Accepted\", 'Elephant Gambit', 'Clemenz Opening', \"King's Knight Opening\", 'Sicilian Defense', 'Indian Game', 'Italian Game', 'Italian Game', \"Bishop's Opening\", 'Sicilian Defense', 'Caro-Kann Defense', \"Queen's Gambit Accepted\", \"Queen's Gambit Accepted\", 'Italian Game', 'Englund Gambit Declined, Reversed French', \"King's Knight Opening\", \"Queen's Pawn Game\", 'Russian Game', 'Italian Game', 'Philidor Defense', \"Queen's Pawn Game\", 'Italian Game', 'Three Knights Opening', 'Philidor Defense', 'Italian Game', 'Scandinavian Defense', 'Scandinavian Defense', \"Queen's Gambit Accepted\", 'Ruy Lopez', \"King's Pawn Game\", 'Ruy Lopez', 'Sicilian Defense', 'Italian Game', 'Ruy Lopez', 'Pirc Defense', \"King's Knight Opening\", 'English Opening', 'Italian Game', 'Russian Game', \"Queen's Gambit Accepted\", 'Italian Game', 'Ruy Lopez', 'Four Knights Game', \"Queen's Gambit Accepted\", 'Italian Game', 'Mieses Opening', 'Four Knights Game', 'Sicilian Defense', 'Ruy Lopez', 'Italian Game', 'Italian Game', 'Italian Game', 'French Defense', 'Scandinavian Defense', 'Italian Game', \"Bishop's Opening\", \"Queen's Pawn Game\", \"Queen's Pawn Game\", 'Grob Opening', 'Scandinavian Defense', 'Italian Game', \"Bishop's Opening\", 'Italian Game', 'Three Knights Opening', 'Englund Gambit Declined, Reversed French', 'Sicilian Defense', 'Italian Game', 'French Defense', 'Italian Game', \"Bishop's Opening\", \"King's Pawn Game\", 'Scandinavian Defense', 'Vienna Game', 'Philidor Defense', 'Vienna Game', 'Italian Game', \"Bishop's Opening\", \"Queen's Gambit Accepted\", 'Scandinavian Defense', 'Clemenz Opening', 'Italian Game', 'Italian Game', 'Italian Game', 'Italian Game', 'Modern Defense', 'Italian Game', 'Italian Game', 'Philidor Defense', 'Three Knights Opening', \"King's Pawn Game\", \"Queen's Pawn Game\", 'French Defense', \"Queen's Pawn Game\", 'Italian Game', 'Scotch Game', 'Four Knights Game', 'Center Game', 'Nimzowitsch Defense', 'Philidor Defense', 'Italian Game', 'Scandinavian Defense', 'Italian Game', 'Russian Game', 'Kadas Opening', 'Scotch Game', 'Italian Game', 'Italian Game', 'Italian Game', 'Alekhine Defense', 'Ruy Lopez', 'Italian Game', \"Queen's Gambit Accepted\", 'Sicilian Defense', \"Queen's Gambit Accepted\", 'French Defense', 'Italian Game', 'Russian Game', 'Three Knights Opening', 'Italian Game', \"King's Pawn Game\", 'French Defense', 'English Opening', 'Italian Game', 'Scandinavian Defense', 'Amazon Attack', 'Scandinavian Defense', 'Italian Game', 'Caro-Kann Defense', 'Italian Game', 'Three Knights Opening', 'Philidor Defense', 'Italian Game', \"King's Knight Opening\", \"King's Pawn Game\", 'Italian Game', 'Sicilian Defense', 'Three Knights Opening', 'French Defense', 'Ruy Lopez', \"Queen's Pawn Game\", 'Sicilian Defense', 'Sicilian Defense', 'Four Knights Game', 'Scotch Game', 'Scandinavian Defense', 'Italian Game', 'Italian Game', 'Italian Game', 'Italian Game', \"Queen's Pawn Game\", 'Goldsmith Defense', 'Italian Game', 'Bird Opening', 'Italian Game', 'Vienna Game', \"Queen's Pawn Game\", \"King's Knight Opening\", 'Scandinavian Defense', \"Queen's Pawn Game\", 'Italian Game', \"King's Knight Opening\", 'Russian Game', 'Italian Game', 'Italian Game', \"Queen's Pawn Game\", 'Scandinavian Defense', 'Philidor Defense', 'Danish Gambit Accepted', 'French Defense', 'Scotch Game', 'Philidor Defense', \"Bishop's Opening\", 'Philidor Defense', 'English Opening', 'Italian Game', 'Nimzowitsch Defense', 'Scandinavian Defense', \"Queen's Pawn Game\", 'Four Knights Game', 'Ponziani Opening', 'Philidor Defense', 'Pirc Defense', 'Three Knights Opening', 'Sicilian Defense', \"King's Gambit Accepted, Bishop's Gambit\", \"Queen's Pawn Game\", 'Pirc Defense', \"King's Pawn Game\", 'Caro-Kann Defense', \"Queen's Gambit Accepted\", 'Italian Game', 'Sicilian Defense', \"Van't Kruijs Opening\", 'Danish Gambit', 'Scandinavian Defense', 'Italian Game', 'Italian Game', 'Caro-Kann Defense', 'Italian Game', 'Alekhine Defense', 'Three Knights Opening', 'French Defense', \"King's Pawn Game\", \"King's Pawn Game\", 'Italian Game', 'Ruy Lopez']\n"
     ]
    }
   ],
   "source": [
    "with open('users.json') as f:\n",
    "    data = f.read()\n",
    "    \n",
    "idkdict = json.loads(data)\n",
    "for item in islice(idkdict, 1):\n",
    "    print(idkdict[item])"
   ]
  },
  {
   "cell_type": "code",
   "execution_count": 43,
   "id": "61487e0f",
   "metadata": {},
   "outputs": [
    {
     "name": "stdout",
     "output_type": "stream",
     "text": [
      "                        Event        White             Black  \\\n",
      "0        Rated Classical game    edumenoyo   platito_de_lefa   \n",
      "1        Rated Classical game     a7md2010           dreypat   \n",
      "2        Rated Classical game     raking41          mariofil   \n",
      "3        Rated Classical game     JOHN14-6            naikus   \n",
      "4        Rated Classical game      guevara          Sacchina   \n",
      "...                       ...          ...               ...   \n",
      "1501075  Rated Classical game  skailain279  pincheweylopezXD   \n",
      "1501076  Rated Classical game     Zimerman         paramirez   \n",
      "1501077  Rated Classical game       Airon8           ardbano   \n",
      "1501078  Rated Classical game  Danieloaiza         dannyatac   \n",
      "1501079  Rated Classical game  papadesarah         photomium   \n",
      "\n",
      "                        Opening  WhiteElo  BlackElo  \n",
      "0                  Owen Defense      1770      1625  \n",
      "1             Hungarian Opening      1704      1764  \n",
      "2                  Italian Game      1695      1648  \n",
      "3               Horwitz Defense      1725      1800  \n",
      "4                French Defense      1620      1675  \n",
      "...                         ...       ...       ...  \n",
      "1501075    Van't Kruijs Opening      1183      1666  \n",
      "1501076        Sicilian Defense      1931      1884  \n",
      "1501077    Scandinavian Defense      2255      1628  \n",
      "1501078  Queen's Gambit Refused      1434      1832  \n",
      "1501079            Italian Game      1500      1428  \n",
      "\n",
      "[1501080 rows x 6 columns]\n"
     ]
    }
   ],
   "source": [
    "df = pd.read_csv('out.csv')\n",
    "print(df)"
   ]
  },
  {
   "cell_type": "code",
   "execution_count": null,
   "id": "7e059c75",
   "metadata": {},
   "outputs": [],
   "source": []
  }
 ],
 "metadata": {
  "kernelspec": {
   "display_name": "Python 3 (ipykernel)",
   "language": "python",
   "name": "python3"
  },
  "language_info": {
   "codemirror_mode": {
    "name": "ipython",
    "version": 3
   },
   "file_extension": ".py",
   "mimetype": "text/x-python",
   "name": "python",
   "nbconvert_exporter": "python",
   "pygments_lexer": "ipython3",
   "version": "3.7.3"
  }
 },
 "nbformat": 4,
 "nbformat_minor": 5
}
