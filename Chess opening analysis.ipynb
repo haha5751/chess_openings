{
 "cells": [
  {
   "cell_type": "code",
   "execution_count": 7,
   "id": "a92635f9",
   "metadata": {},
   "outputs": [],
   "source": [
    "import chess.pgn\n",
    "import pandas as pd\n",
    "import matplotlib.pyplot as plt\n",
    "import numpy as np\n",
    "import lichess.api\n",
    "from lichess.format import PGN\n",
    "\n",
    "pgn = open(\"lichess_db_standard_rated_2016-05.pgn\")\n",
    "\n",
    "users = set()\n",
    "dfGames = pd.DataFrame(columns = ['Event', 'White', 'Black', 'Opening', 'WhiteElo', 'BlackElo'])\n",
    "for x in range(100):\n",
    "    game = chess.pgn.read_game(pgn)\n",
    "    if game.headers.get('Event') == \"Rated Classical game\":\n",
    "        row = [game.headers.get('Event'), game.headers.get('White'), game.headers.get('Black'), game.headers.get('Opening'), game.headers.get('WhiteElo'), game.headers.get('BlackElo')]\n",
    "        dfGames = dfGames.append(pd.Series(row, index = ['Event', 'White', 'Black', 'Opening', 'WhiteElo', 'BlackElo']), ignore_index = True)\n",
    "        users.add(game.headers.get('White'))\n",
    "        users.add(game.headers.get('Black'))"
   ]
  },
  {
   "cell_type": "code",
   "execution_count": 18,
   "id": "8f3f8eae",
   "metadata": {},
   "outputs": [
    {
     "name": "stdout",
     "output_type": "stream",
     "text": [
      "{'pepi_1800', 'Sahinsah', 'aerdna87', 'mynlan', 'Biterolf', 'mariofil', 'JOHN14-6', 'Muthos', 'dreypat', 'yonyo30', 'Newton_10', 'TenAndOnly10', 'caporipens', 'valerioneto', 'madri1enians', 'nader10', 'Sacchina', 'filobertito', 'raking41', 'zoranastanisic', 'moe1337', 'diskborste', 'Shankh', 'naikus', 'Spiedo', 'brunoctba32', 'chuecheng', 'Gambit47', 'platito_de_lefa', 'el_sheikh', 'a7md2010', 'PaMaViGi', 'edumenoyo', 'Dexter_Ni', 'guevara', 'PiqueFain'}\n",
      "[Event \"Rated Rapid game\"]\n",
      "[Site \"https://lichess.org/7s905hVw\"]\n",
      "[Date \"2022.10.23\"]\n",
      "[Round \"?\"]\n",
      "[White \"JOHN14-6\"]\n",
      "[Black \"mirnyi60\"]\n",
      "[Result \"0-1\"]\n",
      "[BlackElo \"1496\"]\n",
      "[BlackRatingDiff \"+6\"]\n",
      "[ECO \"D00\"]\n",
      "[Termination \"Normal\"]\n",
      "[TimeControl \"600+5\"]\n",
      "[UTCDate \"2022.10.23\"]\n",
      "[UTCTime \"22:51:44\"]\n",
      "[Variant \"Standard\"]\n",
      "[WhiteElo \"1477\"]\n",
      "[WhiteRatingDiff \"-11\"]\n",
      "\n",
      "1. d4 d5 2. g3 Bf5 3. Bg2 e6 4. c3 Nf6 5. Nf3 h6 6. Qb3 b6 7. Qb5+ Qd7 8. Qb3 Nc6 9. Ne5 Qd6 10. Nxc6 Qxc6 11. Nd2 Bd6 12. O-O O-O 13. Qd1 Qb7 14. Nf3 c5 15. Nh4 Bh7 16. Qe1 c4 17. e4 dxe4 18. b3 cxb3 19. axb3 Rad8 20. b4 g5 21. Qe3 gxh4 22. Qxh6 Ng4 23. Qxh4 f5 24. Bh6 Nxh6 25. Qxh6 Qf7 26. h4 Bb8 27. h5 Qf6 28. Qf4 Bxf4 0-1\n"
     ]
    }
   ],
   "source": [
    "from lichess.format import PYCHESS\n",
    "#print(dfGames['White'])\n",
    "print(users)\n",
    "pgns = lichess.api.user_games('JOHN14-6', max=50, format=PYCHESS)\n",
    "print(next(pgns))"
   ]
  },
  {
   "cell_type": "code",
   "execution_count": 11,
   "id": "0970f485",
   "metadata": {},
   "outputs": [
    {
     "name": "stdout",
     "output_type": "stream",
     "text": [
      "None\n",
      "None\n",
      "None\n",
      "None\n",
      "None\n",
      "None\n",
      "None\n",
      "None\n",
      "None\n",
      "None\n",
      "None\n",
      "None\n",
      "None\n",
      "None\n",
      "None\n",
      "None\n",
      "None\n",
      "None\n",
      "None\n",
      "None\n",
      "None\n",
      "None\n",
      "None\n",
      "None\n",
      "None\n",
      "None\n",
      "None\n",
      "None\n",
      "None\n",
      "None\n",
      "None\n",
      "None\n",
      "None\n",
      "None\n",
      "None\n",
      "None\n",
      "None\n",
      "None\n",
      "None\n",
      "None\n",
      "None\n",
      "None\n",
      "None\n",
      "None\n",
      "None\n",
      "None\n",
      "None\n",
      "None\n",
      "None\n",
      "None\n",
      "None\n",
      "None\n",
      "None\n",
      "None\n",
      "None\n",
      "None\n",
      "None\n",
      "None\n",
      "None\n",
      "None\n",
      "None\n",
      "None\n",
      "None\n",
      "None\n",
      "None\n",
      "None\n",
      "None\n",
      "None\n",
      "None\n",
      "None\n",
      "None\n",
      "None\n"
     ]
    }
   ],
   "source": [
    "basketMap = {}\n",
    "for user in users:\n",
    "    try:\n",
    "        pgns = lichess.api.user_games(user, max=20, format=PYCHESS)\n",
    "    except:\n",
    "        continue\n",
    "    openings = set()\n",
    "    for pgn in pgns:\n",
    "        if pgn.headers.get('Event') == \"Rated Classical game\":\n",
    "            print(pgn.headers.get('Opening'))\n",
    "            openings.add(pgn.headers.get('Opening'))\n",
    "    basketMap[user] = list(openings)"
   ]
  },
  {
   "cell_type": "code",
   "execution_count": 10,
   "id": "b01cc604",
   "metadata": {},
   "outputs": [
    {
     "name": "stdout",
     "output_type": "stream",
     "text": [
      "{'pepi_1800': [], 'Sahinsah': [None], 'mynlan': [], 'Biterolf': [None], 'mariofil': [], 'JOHN14-6': [], 'Muthos': [], 'dreypat': [], 'Newton_10': [], 'TenAndOnly10': [], 'caporipens': [], 'valerioneto': [], 'madri1enians': [None], 'nader10': [], 'Sacchina': [None], 'filobertito': [], 'raking41': [None], 'zoranastanisic': [], 'moe1337': [], 'diskborste': [], 'Shankh': [], 'naikus': [], 'Spiedo': [None], 'brunoctba32': [], 'chuecheng': [], 'Gambit47': [None], 'platito_de_lefa': [], 'a7md2010': [], 'PaMaViGi': [None], 'edumenoyo': [], 'Dexter_Ni': [None], 'guevara': [None], 'PiqueFain': []}\n"
     ]
    }
   ],
   "source": [
    "print(basketMap)"
   ]
  },
  {
   "cell_type": "code",
   "execution_count": 14,
   "id": "80ea0fff",
   "metadata": {},
   "outputs": [
    {
     "name": "stdout",
     "output_type": "stream",
     "text": [
      "                   Event           White            Black  \\\n",
      "0   Rated Classical game       edumenoyo  platito_de_lefa   \n",
      "1   Rated Classical game        a7md2010          dreypat   \n",
      "2   Rated Classical game        raking41         mariofil   \n",
      "3   Rated Classical game        JOHN14-6           naikus   \n",
      "4   Rated Classical game         guevara         Sacchina   \n",
      "5   Rated Classical game        PaMaViGi        pepi_1800   \n",
      "6   Rated Classical game       PiqueFain      brunoctba32   \n",
      "7   Rated Classical game       chuecheng        el_sheikh   \n",
      "8   Rated Classical game        Sahinsah         aerdna87   \n",
      "9   Rated Classical game         yonyo30         Biterolf   \n",
      "10  Rated Classical game          mynlan       caporipens   \n",
      "11  Rated Classical game          Shankh          moe1337   \n",
      "12  Rated Classical game      diskborste      filobertito   \n",
      "13  Rated Classical game  zoranastanisic      valerioneto   \n",
      "14  Rated Classical game    madri1enians           Muthos   \n",
      "15  Rated Classical game       Dexter_Ni     TenAndOnly10   \n",
      "16  Rated Classical game       Newton_10          nader10   \n",
      "17  Rated Classical game        Gambit47           Spiedo   \n",
      "\n",
      "                                              Opening WhiteElo BlackElo  \n",
      "0                                        Owen Defense     1770     1625  \n",
      "1                   Hungarian Opening: Indian Defense     1704     1764  \n",
      "2                                        Italian Game     1695     1648  \n",
      "3                                     Horwitz Defense     1725     1800  \n",
      "4                     French Defense: Steinitz Attack     1620     1675  \n",
      "5   Scotch Game: Classical Variation, Intermezzo V...     1957     1963  \n",
      "6                                 Philidor Defense #3     1683     1651  \n",
      "7                                Queen's Pawn Game #2     1544     1605  \n",
      "8                         Center Game: Hall Variation     1639     1634  \n",
      "9                   Budapest Defense: Adler Variation     1829     1771  \n",
      "10                              King's Knight Opening     1556     1640  \n",
      "11                   Ruy Lopez: Spanish Countergambit     1549     1067  \n",
      "12             Sicilian Defense: Loewenthal Variation     1980     1837  \n",
      "13                                  Hungarian Opening     1691     1705  \n",
      "14          King's Gambit Accepted: Modern Defense #2     1641     1700  \n",
      "15                   Slav Defense: Exchange Variation     1890     1826  \n",
      "16              Queen's Pawn Game: Chigorin Variation     1328     1284  \n",
      "17   Ruy Lopez: Morphy Defense, Arkhangelsk Variation     1858     1728  \n"
     ]
    }
   ],
   "source": [
    "print(dfGames)"
   ]
  },
  {
   "cell_type": "code",
   "execution_count": null,
   "id": "35d0b391",
   "metadata": {},
   "outputs": [],
   "source": []
  }
 ],
 "metadata": {
  "kernelspec": {
   "display_name": "Python 3 (ipykernel)",
   "language": "python",
   "name": "python3"
  },
  "language_info": {
   "codemirror_mode": {
    "name": "ipython",
    "version": 3
   },
   "file_extension": ".py",
   "mimetype": "text/x-python",
   "name": "python",
   "nbconvert_exporter": "python",
   "pygments_lexer": "ipython3",
   "version": "3.7.3"
  }
 },
 "nbformat": 4,
 "nbformat_minor": 5
}
