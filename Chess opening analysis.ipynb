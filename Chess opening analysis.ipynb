{
 "cells": [
  {
   "cell_type": "code",
   "execution_count": 37,
   "id": "a92635f9",
   "metadata": {},
   "outputs": [],
   "source": [
    "import chess.pgn\n",
    "import pandas as pd\n",
    "import matplotlib.pyplot as plt\n",
    "import numpy as np\n",
    "import lichess.api\n",
    "from lichess.format import PGN\n",
    "import json\n",
    "\n",
    "pgn = open(\"lichess_db_standard_rated_2016-05.pgn\")\n",
    "#print(len(pgn))\n",
    "users = {}\n",
    "#dfGames = pd.DataFrame(columns = ['Event', 'White', 'Black', 'Opening', 'WhiteElo', 'BlackElo'])\n",
    "games_arr = []\n",
    "for x in range(6000000):\n",
    "    headers = chess.pgn.read_headers(pgn)\n",
    "    opening = headers.get('Opening').split(':')[0]\n",
    "    opening = opening.split(' #')[0]\n",
    "    if headers.get('Event') == \"Rated Classical game\":\n",
    "        row = [headers.get('Event'), headers.get('White'), headers.get('Black'), opening, headers.get('WhiteElo'), headers.get('BlackElo')]\n",
    "        games_arr.append(row)\n",
    "        #dfGames = dfGames.append(pd.Series(row, index = ['Event', 'White', 'Black', 'Opening', 'WhiteElo', 'BlackElo']), ignore_index = True)\n",
    "        \n",
    "        if users.get(headers.get('White')):\n",
    "            users[headers.get('White')].append(opening)\n",
    "        else:\n",
    "            users[headers.get('White')] = [opening]\n",
    "        \n",
    "        if users.get(headers.get('Black')):\n",
    "            users[headers.get('Black')].append(opening)\n",
    "        else:\n",
    "            users[headers.get('Black')] = [opening]\n",
    "            \n",
    "# dfGames.to_csv('out.csv', encoding='utf-8', index=False)\n",
    "with open('users.json','w') as data: \n",
    "    json.dump(users, data)"
   ]
  },
  {
   "cell_type": "code",
   "execution_count": 23,
   "id": "8f3f8eae",
   "metadata": {},
   "outputs": [
    {
     "name": "stdout",
     "output_type": "stream",
     "text": [
      "39.62776699798044\n"
     ]
    }
   ],
   "source": [
    "from lichess.format import PYCHESS\n",
    "basket_size_sum = 0\n",
    "count = 0\n",
    "for k in users:\n",
    "    count += 1\n",
    "    basket_size_sum += len(users[k])\n",
    "    \n",
    "print(basket_size_sum/count)"
   ]
  },
  {
   "cell_type": "code",
   "execution_count": 7,
   "id": "0970f485",
   "metadata": {},
   "outputs": [],
   "source": [
    "basketMap = {}\n",
    "for user in users:\n",
    "    try:\n",
    "        pgns = lichess.api.user_games(user, max=20, format=PYCHESS)\n",
    "    except:\n",
    "        continue\n",
    "    openings = set()\n",
    "    for pgn in pgns:\n",
    "        if pgn.headers.get('Event') == \"Rated Classical game\":\n",
    "            #print(pgn.headers.get('Opening'))\n",
    "            openings.add(pgn.headers.get('Opening'))\n",
    "    basketMap[user] = list(openings)"
   ]
  },
  {
   "cell_type": "code",
   "execution_count": 3,
   "id": "b01cc604",
   "metadata": {},
   "outputs": [
    {
     "name": "stdout",
     "output_type": "stream",
     "text": [
      "Headers(Event='Rated Bullet tournament https://lichess.org/tournament/IaRkDsvp', Site='https://lichess.org/r0cYFhsy', White='GreatGig', Black='hackattack', Result='0-1', BlackElo='1809', BlackRatingDiff='+11', ECO='B01', Opening='Scandinavian Defense: Mieses-Kotroc Variation', Termination='Time forfeit', TimeControl='60+0', UTCDate='2016.04.30', UTCTime='22:00:03', WhiteElo='1777', WhiteRatingDiff='-11')\n",
      "GreatGig\n"
     ]
    }
   ],
   "source": [
    "import chess.pgn\n",
    "pgn = open(\"lichess_db_standard_rated_2016-05.pgn\")\n",
    "for x in range(1):\n",
    "    headers = chess.pgn.read_headers(pgn)\n",
    "print(headers)\n",
    "print(headers.get('White'))"
   ]
  },
  {
   "cell_type": "code",
   "execution_count": 40,
   "id": "80ea0fff",
   "metadata": {},
   "outputs": [],
   "source": [
    "dfGames = pd.DataFrame(games_arr, columns = ['Event', 'White', 'Black', 'Opening', 'WhiteElo', 'BlackElo'])"
   ]
  },
  {
   "cell_type": "code",
   "execution_count": 41,
   "id": "35d0b391",
   "metadata": {},
   "outputs": [
    {
     "name": "stdout",
     "output_type": "stream",
     "text": [
      "1501080\n"
     ]
    }
   ],
   "source": [
    "print(len(games_arr))\n",
    "dfGames.to_csv('out.csv', encoding='utf-8', index=False)"
   ]
  },
  {
   "cell_type": "code",
   "execution_count": 27,
   "id": "e146b511",
   "metadata": {},
   "outputs": [
    {
     "name": "stdout",
     "output_type": "stream",
     "text": [
      "['Owen Defense', \"King's Knight Opening: Normal Variation\", 'Philidor Defense #3', 'Ruy Lopez: Steinitz Defense', 'Ruy Lopez: Steinitz Defense', 'Philidor Defense #3', 'Russian Game: Three Knights Game', \"Van't Kruijs Opening\", 'Italian Game', 'Scotch Game', 'Zukertort Opening', 'Alekhine Defense', 'Caro-Kann Defense', \"Queen's Pawn Game: Symmetrical Variation\", 'Three Knights Opening', 'Italian Game: Anti-Fried Liver Defense', 'Ruy Lopez: Steinitz Defense', \"Bishop's Opening: Vienna Hybrid\", \"Italian Game: Two Knights Defense, Modern Bishop's Opening\", 'Sicilian Defense: Bowdler Attack', 'Philidor Defense #3', 'Italian Game: Anti-Fried Liver Defense', 'Philidor Defense #3', \"King's Pawn Game: Wayward Queen Attack, Kiddie Countergambit\", \"King's Pawn Game: McConnell Defense\", 'Italian Game: Anti-Fried Liver Defense', \"Van't Kruijs Opening\", 'Sicilian Defense: Bowdler Attack', \"Queen's Gambit Accepted\", 'Scotch Game', 'French Defense: Exchange Variation', 'Philidor Defense #3', 'Italian Game: Anti-Fried Liver Defense', 'Ruy Lopez: Steinitz Defense', 'French Defense: Normal Variation', 'Vienna Game: Mengarini Variation', 'Italian Game: Anti-Fried Liver Defense', 'Italian Game: Anti-Fried Liver Defense', 'Italian Game: Anti-Fried Liver Defense', 'French Defense: Exchange Variation', \"Queen's Pawn Game: Zukertort Variation\", 'Sicilian Defense: Bowdler Attack', \"King's Pawn Game: McConnell Defense\", \"Queen's Gambit Accepted\", 'Reti Opening #2', 'Four Knights Game: Italian Variation', 'Scotch Game', \"King's Pawn Game: Dresden Opening\", 'Czech Defense', 'Sicilian Defense: Bowdler Attack', 'Scotch Game', 'Ruy Lopez: Steinitz Defense', 'Russian Game: Three Knights Game', \"Queen's Gambit Accepted: Accelerated Mannheim Variation\", 'Russian Game: Three Knights Game', 'Italian Game: Anti-Fried Liver Defense', 'Italian Game: Anti-Fried Liver Defense', 'Italian Game: Anti-Fried Liver Defense', 'Scandinavian Defense: Mieses-Kotroc Variation', \"King's Gambit Accepted, King's Knight Gambit\", 'Philidor Defense #3', 'Italian Game: Anti-Fried Liver Defense', 'Philidor Defense #3', 'Russian Game: Three Knights Game', 'Ruy Lopez: Steinitz Defense', 'Ruy Lopez: Steinitz Defense', 'Sicilian Defense', 'Italian Game: Anti-Fried Liver Defense', 'Danish Gambit Accepted, Copenhagen Defense', 'Italian Game', \"Italian Game: Two Knights Defense, Modern Bishop's Opening\", 'Vienna Game: Mengarini Variation', 'Scandinavian Defense: Main Line', 'French Defense: Exchange Variation', 'Ruy Lopez: Steinitz Defense', \"Queen's Gambit Accepted\", 'Elephant Gambit', 'Clemenz Opening', \"King's Knight Opening: Normal Variation\", 'Sicilian Defense: Bowdler Attack', 'Indian Game: Wade-Tartakower Defense', 'Italian Game: Giuoco Pianissimo, Normal', 'Italian Game: Anti-Fried Liver Defense', \"Bishop's Opening\", 'Sicilian Defense: Bowdler Attack', 'Caro-Kann Defense: Hillbilly Attack', \"Queen's Gambit Accepted: Old Variation\", \"Queen's Gambit Accepted: Old Variation\", 'Italian Game: Giuoco Pianissimo, Normal', 'Englund Gambit Declined, Reversed French', \"King's Knight Opening\", \"Queen's Pawn Game\", 'Russian Game: Urusov Gambit', 'Italian Game: Anti-Fried Liver Defense', 'Philidor Defense #4', \"Queen's Pawn Game: Veresov Attack, Alburt Defense\", 'Italian Game: Hungarian Defense', 'Three Knights Opening', 'Philidor Defense #3', 'Italian Game: Anti-Fried Liver Defense', 'Scandinavian Defense: Mieses-Kotroc Variation', 'Scandinavian Defense: Mieses-Kotroc Variation', \"Queen's Gambit Accepted: Old Variation\", 'Ruy Lopez: Steinitz Defense', \"King's Pawn Game: McConnell Defense\", 'Ruy Lopez: Steinitz Defense', 'Sicilian Defense: Bowdler Attack', 'Italian Game: Anti-Fried Liver Defense', 'Ruy Lopez: Steinitz Defense', 'Pirc Defense #4', \"King's Knight Opening\", \"English Opening: King's English Variation\", 'Italian Game: Giuoco Pianissimo', 'Russian Game: Urusov Gambit', \"Queen's Gambit Accepted: Old Variation\", 'Italian Game: Two Knights Defense, Fried Liver Attack', 'Ruy Lopez: Steinitz Defense', 'Four Knights Game: Italian Variation', \"Queen's Gambit Accepted\", 'Italian Game: Two Knights Defense, Ponziani-Steinitz Gambit', 'Mieses Opening', 'Four Knights Game: Italian Variation', 'Sicilian Defense: Bowdler Attack', 'Ruy Lopez: Steinitz Defense', 'Italian Game: Two Knights Defense, Knight Attack, Normal Variation', 'Italian Game: Anti-Fried Liver Defense', 'Italian Game: Anti-Fried Liver Defense', 'French Defense: Exchange Variation', 'Scandinavian Defense: Mieses-Kotroc Variation', 'Italian Game', \"Bishop's Opening\", \"Queen's Pawn Game: Zukertort Variation\", \"Queen's Pawn Game: Zukertort Variation\", 'Grob Opening', 'Scandinavian Defense: Main Line', 'Italian Game', \"Bishop's Opening\", 'Italian Game: Giuoco Pianissimo, Normal', 'Three Knights Opening', 'Englund Gambit Declined, Reversed French', 'Sicilian Defense: Bowdler Attack', 'Italian Game: Anti-Fried Liver Defense', 'French Defense: Exchange Variation', 'Italian Game', \"Bishop's Opening\", \"King's Pawn Game: McConnell Defense\", 'Scandinavian Defense: Mieses-Kotroc Variation', 'Vienna Game: Anderssen Defense', 'Philidor Defense #3', 'Vienna Game: Mengarini Variation', 'Italian Game: Giuoco Pianissimo, Normal', \"Bishop's Opening\", \"Queen's Gambit Accepted\", 'Scandinavian Defense: Mieses-Kotroc Variation', 'Clemenz Opening', \"Italian Game: Two Knights Defense, Modern Bishop's Opening\", 'Italian Game: Anti-Fried Liver Defense', 'Italian Game: Schilling-Kostic Gambit', 'Italian Game: Anti-Fried Liver Defense', 'Modern Defense', 'Italian Game: Anti-Fried Liver Defense', 'Italian Game: Anti-Fried Liver Defense', 'Philidor Defense #3', 'Three Knights Opening', \"King's Pawn Game: Damiano Defense\", \"Queen's Pawn Game\", 'French Defense: Exchange Variation', \"Queen's Pawn Game: Veresov Attack, Alburt Defense\", \"Italian Game: Two Knights Defense, Modern Bishop's Opening\", 'Scotch Game', 'Four Knights Game: Italian Variation', 'Center Game: Paulsen Attack Variation', 'Nimzowitsch Defense', 'Philidor Defense #3', 'Italian Game: Anti-Fried Liver Defense', 'Scandinavian Defense: Mieses-Kotroc Variation', 'Italian Game: Anti-Fried Liver Defense', 'Russian Game: Three Knights Game', 'Kadas Opening', 'Scotch Game', 'Italian Game: Giuoco Pianissimo', 'Italian Game: Anti-Fried Liver Defense', 'Italian Game: Giuoco Pianissimo', 'Alekhine Defense: Normal Variation', 'Ruy Lopez: Morphy Defense, Modern Steinitz Defense', 'Italian Game: Anti-Fried Liver Defense', \"Queen's Gambit Accepted: Normal Variation\", 'Sicilian Defense: Bowdler Attack', \"Queen's Gambit Accepted: Old Variation\", 'French Defense: Exchange Variation', 'Italian Game: Anti-Fried Liver Defense', 'Russian Game: Three Knights Game', 'Three Knights Opening', 'Italian Game: Schilling-Kostic Gambit', \"King's Pawn Game: Wayward Queen Attack\", \"French Defense: Queen's Knight\", \"English Opening: King's English Variation, Reversed Sicilian\", 'Italian Game: Anti-Fried Liver Defense', 'Scandinavian Defense: Mieses-Kotroc Variation', 'Amazon Attack', 'Scandinavian Defense: Mieses-Kotroc Variation', 'Italian Game: Anti-Fried Liver Defense', 'Caro-Kann Defense: Hillbilly Attack', 'Italian Game: Anti-Fried Liver Defense', 'Three Knights Opening', 'Philidor Defense #3', 'Italian Game: Anti-Fried Liver Defense', \"King's Knight Opening: Konstantinopolsky\", \"King's Pawn Game: Damiano Defense\", 'Italian Game: Anti-Fried Liver Defense', 'Sicilian Defense: Bowdler Attack', 'Three Knights Opening', 'French Defense #2', 'Ruy Lopez: Morphy Defense, Modern Steinitz Defense', \"Queen's Pawn Game: Colle System, Anti-Colle\", 'Sicilian Defense: Bowdler Attack', 'Sicilian Defense: Bowdler Attack', 'Four Knights Game: Italian Variation', 'Scotch Game', 'Scandinavian Defense: Gubinsky-Melts Defense', 'Italian Game: Anti-Fried Liver Defense', 'Italian Game: Anti-Fried Liver Defense', 'Italian Game: Anti-Fried Liver Defense', 'Italian Game: Anti-Fried Liver Defense', \"Queen's Pawn Game: Zukertort Variation\", 'Goldsmith Defense', \"Italian Game: Two Knights Defense, Modern Bishop's Opening\", 'Bird Opening', \"Italian Game: Two Knights Defense, Modern Bishop's Opening\", 'Vienna Game: Vienna Gambit', \"Queen's Pawn Game: Veresov Attack, Alburt Defense\", \"King's Knight Opening\", 'Scandinavian Defense: Mieses-Kotroc Variation', \"Queen's Pawn Game\", 'Italian Game: Schilling-Kostic Gambit', \"King's Knight Opening: Normal Variation\", 'Russian Game: Urusov Gambit', 'Italian Game: Anti-Fried Liver Defense', 'Italian Game: Anti-Fried Liver Defense', \"Queen's Pawn Game: Veresov Attack, Alburt Defense\", 'Scandinavian Defense: Mieses-Kotroc Variation', 'Philidor Defense #3', 'Danish Gambit Accepted', \"French Defense: Queen's Knight\", 'Scotch Game', 'Philidor Defense #3', \"Bishop's Opening\", 'Philidor Defense #3', \"English Opening: King's English Variation, Four Knights Variation, Fianchetto Line\", 'Italian Game: Anti-Fried Liver Defense', 'Nimzowitsch Defense', 'Scandinavian Defense: Modern Variation #2', \"Queen's Pawn Game #2\", 'Four Knights Game: Italian Variation', 'Ponziani Opening: Jaenisch Counterattack', 'Philidor Defense #3', 'Pirc Defense #4', 'Three Knights Opening', 'Sicilian Defense: Bowdler Attack', \"King's Gambit Accepted, Bishop's Gambit\", \"Queen's Pawn Game\", 'Pirc Defense #4', \"King's Pawn Game: Macleod Attack\", 'Caro-Kann Defense', \"Queen's Gambit Accepted: Old Variation\", 'Italian Game: Hungarian Defense', 'Sicilian Defense: Bowdler Attack', \"Van't Kruijs Opening\", 'Danish Gambit', 'Scandinavian Defense: Mieses-Kotroc Variation', 'Italian Game: Anti-Fried Liver Defense', 'Italian Game: Anti-Fried Liver Defense', 'Caro-Kann Defense: Hillbilly Attack', 'Italian Game: Anti-Fried Liver Defense', 'Alekhine Defense', 'Three Knights Opening', 'French Defense: Advance Variation #3', \"King's Pawn Game: Leonardis Variation\", \"King's Pawn Game: Napoleon Attack\", 'Italian Game: Anti-Fried Liver Defense', 'Ruy Lopez: Steinitz Defense']\n"
     ]
    }
   ],
   "source": [
    "from itertools import islice\n",
    "\n",
    "for item in islice(users, 1):\n",
    "    print(users[item])"
   ]
  },
  {
   "cell_type": "code",
   "execution_count": 59,
   "id": "4df1aa71",
   "metadata": {},
   "outputs": [
    {
     "name": "stdout",
     "output_type": "stream",
     "text": [
      "['Elephant Gambit', 'Owen Defense', 'Alekhine Defense', 'Kadas Opening', 'Ruy Lopez', \"Queen's Gambit Accepted\", 'Clemenz Opening', 'Modern Defense', 'Grob Opening', 'Danish Gambit', 'Nimzowitsch Defense', 'Vienna Game', \"King's Gambit Accepted, King's Knight Gambit\", 'Caro-Kann Defense', 'Goldsmith Defense', 'Russian Game', \"Van't Kruijs Opening\", 'Scandinavian Defense', 'Mieses Opening', \"King's Gambit Accepted, Bishop's Gambit\", 'Danish Gambit Accepted', 'Philidor Defense', \"Queen's Pawn Game\", 'Center Game', 'Bird Opening', 'Indian Game', 'Amazon Attack', 'French Defense', 'English Opening', 'Three Knights Opening', 'Italian Game', \"Bishop's Opening\", 'Pirc Defense', \"King's Knight Opening\", 'Zukertort Opening', 'Sicilian Defense', 'Englund Gambit Declined, Reversed French', 'Czech Defense', 'Scotch Game', 'Reti Opening', 'Ponziani Opening', \"King's Pawn Game\", 'Danish Gambit Accepted, Copenhagen Defense', 'Four Knights Game']\n"
     ]
    }
   ],
   "source": [
    "import json\n",
    "from itertools import islice\n",
    "from efficient_apriori import apriori\n",
    "import pandas as pd\n",
    "import numpy as np\n",
    "with open('users.json') as f:\n",
    "    data = f.read()\n",
    "    \n",
    "idkdict = json.loads(data)\n",
    "for item in islice(idkdict, 1):\n",
    "    print(idkdict[item])"
   ]
  },
  {
   "cell_type": "code",
   "execution_count": 60,
   "id": "61487e0f",
   "metadata": {},
   "outputs": [
    {
     "name": "stdout",
     "output_type": "stream",
     "text": [
      "                        Event        White             Black  \\\n",
      "0        Rated Classical game    edumenoyo   platito_de_lefa   \n",
      "1        Rated Classical game     a7md2010           dreypat   \n",
      "2        Rated Classical game     raking41          mariofil   \n",
      "3        Rated Classical game     JOHN14-6            naikus   \n",
      "4        Rated Classical game      guevara          Sacchina   \n",
      "...                       ...          ...               ...   \n",
      "1501075  Rated Classical game  skailain279  pincheweylopezXD   \n",
      "1501076  Rated Classical game     Zimerman         paramirez   \n",
      "1501077  Rated Classical game       Airon8           ardbano   \n",
      "1501078  Rated Classical game  Danieloaiza         dannyatac   \n",
      "1501079  Rated Classical game  papadesarah         photomium   \n",
      "\n",
      "                        Opening  WhiteElo  BlackElo  \n",
      "0                  Owen Defense      1770      1625  \n",
      "1             Hungarian Opening      1704      1764  \n",
      "2                  Italian Game      1695      1648  \n",
      "3               Horwitz Defense      1725      1800  \n",
      "4                French Defense      1620      1675  \n",
      "...                         ...       ...       ...  \n",
      "1501075    Van't Kruijs Opening      1183      1666  \n",
      "1501076        Sicilian Defense      1931      1884  \n",
      "1501077    Scandinavian Defense      2255      1628  \n",
      "1501078  Queen's Gambit Refused      1434      1832  \n",
      "1501079            Italian Game      1500      1428  \n",
      "\n",
      "[1501080 rows x 6 columns]\n"
     ]
    }
   ],
   "source": [
    "df = pd.read_csv('out.csv')\n",
    "print(df)"
   ]
  },
  {
   "cell_type": "code",
   "execution_count": 77,
   "id": "7e059c75",
   "metadata": {},
   "outputs": [],
   "source": [
    "openingswithusers = [(k, v) for k, v in idkdict.items()]\n",
    "openings = []\n",
    "for i in range(len(openingswithusers)):\n",
    "    openings.append(openingswithusers[i][1])"
   ]
  },
  {
   "cell_type": "code",
   "execution_count": 89,
   "id": "0b484bc2-1ff0-4669-989e-18f37c6a86d1",
   "metadata": {},
   "outputs": [],
   "source": [
    "itemsets, rules = apriori(openings, min_support = 0.17, min_confidence = 0.85)"
   ]
  },
  {
   "cell_type": "code",
   "execution_count": 110,
   "id": "ac30436b-3e83-4232-b2a4-ec98d9a1be3b",
   "metadata": {},
   "outputs": [],
   "source": [
    "results = []\n",
    "for i in range(2):\n",
    "    rules_rhs = filter(lambda rule: len(rule.lhs) == (2 + i) and len(rule.rhs) == 1, rules)\n",
    "    for rule in sorted(rules_rhs, key=lambda rule: rule.lift):\n",
    "        results.append(rule)"
   ]
  },
  {
   "cell_type": "code",
   "execution_count": 111,
   "id": "4436395e-1de0-416f-8fe8-0a940a5d6153",
   "metadata": {},
   "outputs": [
    {
     "name": "stdout",
     "output_type": "stream",
     "text": [
      "{English Opening, French Defense} -> {Sicilian Defense} (conf: 0.853, supp: 0.180, lift: 1.723, conv: 3.436)\n",
      "\n",
      "{French Defense, Scandinavian Defense} -> {Sicilian Defense} (conf: 0.858, supp: 0.219, lift: 1.733, conv: 3.550)\n",
      "\n",
      "{French Defense, Philidor Defense} -> {Sicilian Defense} (conf: 0.859, supp: 0.211, lift: 1.736, conv: 3.583)\n",
      "\n",
      "{Italian Game, Philidor Defense} -> {Sicilian Defense} (conf: 0.865, supp: 0.174, lift: 1.748, conv: 3.752)\n",
      "\n",
      "{French Defense, Italian Game} -> {Sicilian Defense} (conf: 0.869, supp: 0.189, lift: 1.755, conv: 3.843)\n",
      "\n",
      "{French Defense, Ruy Lopez} -> {Sicilian Defense} (conf: 0.877, supp: 0.173, lift: 1.771, conv: 4.091)\n",
      "\n",
      "{Philidor Defense, Scandinavian Defense} -> {Sicilian Defense} (conf: 0.880, supp: 0.192, lift: 1.778, conv: 4.208)\n",
      "\n",
      "{French Defense, King's Pawn Game, Philidor Defense} -> {Sicilian Defense} (conf: 0.880, supp: 0.177, lift: 1.778, conv: 4.204)\n",
      "\n",
      "{French Defense, Queen's Pawn Game, Scandinavian Defense} -> {Sicilian Defense} (conf: 0.883, supp: 0.173, lift: 1.785, conv: 4.331)\n",
      "\n",
      "{French Defense, King's Pawn Game, Scandinavian Defense} -> {Sicilian Defense} (conf: 0.892, supp: 0.181, lift: 1.803, conv: 4.697)\n",
      "\n",
      "{French Defense, Philidor Defense, Scandinavian Defense} -> {Sicilian Defense} (conf: 0.920, supp: 0.171, lift: 1.859, conv: 6.335)\n",
      "\n",
      "{King's Pawn Game, Queen's Pawn Game, Sicilian Defense} -> {French Defense} (conf: 0.855, supp: 0.180, lift: 1.956, conv: 3.877)\n",
      "\n",
      "{King's Pawn Game, Philidor Defense, Sicilian Defense} -> {French Defense} (conf: 0.864, supp: 0.177, lift: 1.977, conv: 4.135)\n",
      "\n",
      "{Queen's Pawn Game, Scandinavian Defense, Sicilian Defense} -> {French Defense} (conf: 0.874, supp: 0.173, lift: 2.001, conv: 4.481)\n",
      "\n",
      "{King's Pawn Game, Scandinavian Defense, Sicilian Defense} -> {French Defense} (conf: 0.878, supp: 0.181, lift: 2.009, conv: 4.622)\n",
      "\n",
      "{Philidor Defense, Scandinavian Defense, Sicilian Defense} -> {French Defense} (conf: 0.888, supp: 0.171, lift: 2.031, conv: 5.008)\n",
      "\n"
     ]
    }
   ],
   "source": [
    "for j in range(len(results)):\n",
    "    print(\"{}\\n\".format(results[j])) # sorted by lift"
   ]
  },
  {
   "cell_type": "code",
   "execution_count": null,
   "id": "74038a97-138f-4200-a356-5ff3d1b12100",
   "metadata": {},
   "outputs": [],
   "source": []
  }
 ],
 "metadata": {
  "kernelspec": {
   "display_name": "Python 3 (ipykernel)",
   "language": "python",
   "name": "python3"
  },
  "language_info": {
   "codemirror_mode": {
    "name": "ipython",
    "version": 3
   },
   "file_extension": ".py",
   "mimetype": "text/x-python",
   "name": "python",
   "nbconvert_exporter": "python",
   "pygments_lexer": "ipython3",
   "version": "3.9.13"
  }
 },
 "nbformat": 4,
 "nbformat_minor": 5
}
