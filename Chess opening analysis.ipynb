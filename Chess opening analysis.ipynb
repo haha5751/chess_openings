{
 "cells": [
  {
   "cell_type": "code",
   "execution_count": 2,
   "id": "8b1b7f60",
   "metadata": {},
   "outputs": [],
   "source": [
    "import chess.pgn\n",
    "import pandas as pd\n",
    "import matplotlib.pyplot as plt\n",
    "import numpy as np\n",
    "import lichess.api\n",
    "from lichess.format import PGN\n",
    "import json"
   ]
  },
  {
   "cell_type": "code",
   "execution_count": 37,
   "id": "a92635f9",
   "metadata": {},
   "outputs": [],
   "source": [
    "# Read game data file\n",
    "\n",
    "pgn = open(\"lichess_db_standard_rated_2016-05.pgn\")\n",
    "users = {}\n",
    "games_arr = []\n",
    "for x in range(6000000):\n",
    "    headers = chess.pgn.read_headers(pgn)\n",
    "    opening = headers.get('Opening').split(':')[0]\n",
    "    opening = opening.split(' #')[0]\n",
    "    if headers.get('Event') == \"Rated Classical game\":\n",
    "        row = [headers.get('Event'), headers.get('White'), headers.get('Black'), opening, headers.get('WhiteElo'), headers.get('BlackElo')]\n",
    "        games_arr.append(row)\n",
    "        \n",
    "        if users.get(headers.get('White')):\n",
    "            users[headers.get('White')].append(opening)\n",
    "        else:\n",
    "            users[headers.get('White')] = [opening]\n",
    "        \n",
    "        if users.get(headers.get('Black')):\n",
    "            users[headers.get('Black')].append(opening)\n",
    "        else:\n",
    "            users[headers.get('Black')] = [opening]\n",
    "            \n",
    "# Export users to json to avoid rerunning\n",
    "with open('users.json','w') as data: \n",
    "    json.dump(users, data)"
   ]
  },
  {
   "cell_type": "code",
   "execution_count": 23,
   "id": "8f3f8eae",
   "metadata": {},
   "outputs": [
    {
     "name": "stdout",
     "output_type": "stream",
     "text": [
      "39.62776699798044\n"
     ]
    }
   ],
   "source": [
    "# Print average basket size\n",
    "basket_size_sum = 0\n",
    "count = 0\n",
    "for k in users:\n",
    "    count += 1\n",
    "    basket_size_sum += len(users[k])\n",
    "    \n",
    "print(basket_size_sum/count)"
   ]
  },
  {
   "cell_type": "code",
   "execution_count": 3,
   "id": "80ea0fff",
   "metadata": {},
   "outputs": [
    {
     "ename": "NameError",
     "evalue": "name 'games_arr' is not defined",
     "output_type": "error",
     "traceback": [
      "\u001b[1;31m---------------------------------------------------------------------------\u001b[0m",
      "\u001b[1;31mNameError\u001b[0m                                 Traceback (most recent call last)",
      "\u001b[1;32m~\\AppData\\Local\\Temp\\ipykernel_29176\\388004864.py\u001b[0m in \u001b[0;36m<module>\u001b[1;34m\u001b[0m\n\u001b[1;32m----> 1\u001b[1;33m \u001b[0mdfGames\u001b[0m \u001b[1;33m=\u001b[0m \u001b[0mpd\u001b[0m\u001b[1;33m.\u001b[0m\u001b[0mDataFrame\u001b[0m\u001b[1;33m(\u001b[0m\u001b[0mgames_arr\u001b[0m\u001b[1;33m,\u001b[0m \u001b[0mcolumns\u001b[0m \u001b[1;33m=\u001b[0m \u001b[1;33m[\u001b[0m\u001b[1;34m'Event'\u001b[0m\u001b[1;33m,\u001b[0m \u001b[1;34m'White'\u001b[0m\u001b[1;33m,\u001b[0m \u001b[1;34m'Black'\u001b[0m\u001b[1;33m,\u001b[0m \u001b[1;34m'Opening'\u001b[0m\u001b[1;33m,\u001b[0m \u001b[1;34m'WhiteElo'\u001b[0m\u001b[1;33m,\u001b[0m \u001b[1;34m'BlackElo'\u001b[0m\u001b[1;33m]\u001b[0m\u001b[1;33m)\u001b[0m\u001b[1;33m\u001b[0m\u001b[1;33m\u001b[0m\u001b[0m\n\u001b[0m\u001b[0;32m      2\u001b[0m \u001b[0mprint\u001b[0m\u001b[1;33m(\u001b[0m\u001b[0mlen\u001b[0m\u001b[1;33m(\u001b[0m\u001b[0mgames_arr\u001b[0m\u001b[1;33m)\u001b[0m\u001b[1;33m)\u001b[0m\u001b[1;33m\u001b[0m\u001b[1;33m\u001b[0m\u001b[0m\n\u001b[0;32m      3\u001b[0m \u001b[0mdfGames\u001b[0m\u001b[1;33m.\u001b[0m\u001b[0mto_csv\u001b[0m\u001b[1;33m(\u001b[0m\u001b[1;34m'out.csv'\u001b[0m\u001b[1;33m,\u001b[0m \u001b[0mencoding\u001b[0m\u001b[1;33m=\u001b[0m\u001b[1;34m'utf-8'\u001b[0m\u001b[1;33m,\u001b[0m \u001b[0mindex\u001b[0m\u001b[1;33m=\u001b[0m\u001b[1;32mFalse\u001b[0m\u001b[1;33m)\u001b[0m\u001b[1;33m\u001b[0m\u001b[1;33m\u001b[0m\u001b[0m\n",
      "\u001b[1;31mNameError\u001b[0m: name 'games_arr' is not defined"
     ]
    }
   ],
   "source": [
    "# Write games dataframe/array to csv to avoid rerunning\n",
    "dfGames = pd.DataFrame(games_arr, columns = ['Event', 'White', 'Black', 'Opening', 'WhiteElo', 'BlackElo'])\n",
    "print(len(games_arr))\n",
    "dfGames.to_csv('out.csv', encoding='utf-8', index=False)"
   ]
  },
  {
   "cell_type": "code",
   "execution_count": 44,
   "id": "7e059c75",
   "metadata": {},
   "outputs": [],
   "source": [
    "openingswithusers = [(k, v) for k, v in idkdict.items()]\n",
    "openings = []\n",
    "for i in range(len(openingswithusers)):\n",
    "    openings.append(openingswithusers[i][1])"
   ]
  },
  {
   "cell_type": "code",
   "execution_count": 45,
   "id": "0b484bc2-1ff0-4669-989e-18f37c6a86d1",
   "metadata": {},
   "outputs": [],
   "source": [
    "itemsets, rules = apriori(openings, min_support = 0.15, min_confidence = 0.85)"
   ]
  },
  {
   "cell_type": "code",
   "execution_count": 54,
   "id": "ac30436b-3e83-4232-b2a4-ec98d9a1be3b",
   "metadata": {},
   "outputs": [],
   "source": [
    "results = []\n",
    "for i in range(5):\n",
    "    rules_rhs = filter(lambda rule: len(rule.lhs) == (1 + i) and len(rule.rhs) == 1, rules)\n",
    "    for rule in sorted(rules_rhs, key=lambda rule: rule.lift):\n",
    "        results.append(rule)"
   ]
  },
  {
   "cell_type": "code",
   "execution_count": 55,
   "id": "4436395e-1de0-416f-8fe8-0a940a5d6153",
   "metadata": {},
   "outputs": [
    {
     "name": "stdout",
     "output_type": "stream",
     "text": [
      "{English Opening, French Defense} -> {Sicilian Defense} (conf: 0.853, supp: 0.180, lift: 1.723, conv: 3.436)\n",
      "\n",
      "{French Defense, Scandinavian Defense} -> {Sicilian Defense} (conf: 0.858, supp: 0.219, lift: 1.733, conv: 3.550)\n",
      "\n",
      "{French Defense, Philidor Defense} -> {Sicilian Defense} (conf: 0.859, supp: 0.211, lift: 1.736, conv: 3.583)\n",
      "\n",
      "{Bishop's Opening, French Defense} -> {Sicilian Defense} (conf: 0.860, supp: 0.163, lift: 1.737, conv: 3.601)\n",
      "\n",
      "{Caro-Kann Defense, Queen's Pawn Game} -> {Sicilian Defense} (conf: 0.863, supp: 0.151, lift: 1.744, conv: 3.695)\n",
      "\n",
      "{Italian Game, Philidor Defense} -> {Sicilian Defense} (conf: 0.865, supp: 0.174, lift: 1.748, conv: 3.752)\n",
      "\n",
      "{French Defense, Italian Game} -> {Sicilian Defense} (conf: 0.869, supp: 0.189, lift: 1.755, conv: 3.843)\n",
      "\n",
      "{French Defense, Nimzowitsch Defense} -> {Sicilian Defense} (conf: 0.869, supp: 0.157, lift: 1.756, conv: 3.867)\n",
      "\n",
      "{French Defense, Ruy Lopez} -> {Sicilian Defense} (conf: 0.877, supp: 0.173, lift: 1.771, conv: 4.091)\n",
      "\n",
      "{Philidor Defense, Ruy Lopez} -> {Sicilian Defense} (conf: 0.878, supp: 0.162, lift: 1.774, conv: 4.144)\n",
      "\n",
      "{Philidor Defense, Scandinavian Defense} -> {Sicilian Defense} (conf: 0.880, supp: 0.192, lift: 1.778, conv: 4.208)\n",
      "\n",
      "{English Opening, Philidor Defense} -> {Sicilian Defense} (conf: 0.881, supp: 0.151, lift: 1.780, conv: 4.248)\n",
      "\n",
      "{French Defense, Scotch Game} -> {Sicilian Defense} (conf: 0.881, supp: 0.151, lift: 1.781, conv: 4.255)\n",
      "\n",
      "{Caro-Kann Defense, King's Pawn Game} -> {Sicilian Defense} (conf: 0.883, supp: 0.150, lift: 1.785, conv: 4.335)\n",
      "\n",
      "{English Opening, Scandinavian Defense} -> {Sicilian Defense} (conf: 0.884, supp: 0.157, lift: 1.786, conv: 4.362)\n",
      "\n",
      "{Italian Game, Scandinavian Defense} -> {Sicilian Defense} (conf: 0.884, supp: 0.170, lift: 1.787, conv: 4.371)\n",
      "\n",
      "{Caro-Kann Defense, French Defense} -> {Sicilian Defense} (conf: 0.896, supp: 0.169, lift: 1.811, conv: 4.865)\n",
      "\n",
      "{Ruy Lopez, Scandinavian Defense} -> {Sicilian Defense} (conf: 0.898, supp: 0.157, lift: 1.815, conv: 4.958)\n",
      "\n",
      "{Caro-Kann Defense, Scandinavian Defense} -> {Sicilian Defense} (conf: 0.911, supp: 0.153, lift: 1.840, conv: 5.654)\n",
      "\n",
      "{Caro-Kann Defense, Sicilian Defense} -> {French Defense} (conf: 0.851, supp: 0.169, lift: 1.946, conv: 3.769)\n",
      "\n",
      "{King's Pawn Game, Nimzowitsch Defense} -> {French Defense} (conf: 0.856, supp: 0.153, lift: 1.959, conv: 3.919)\n",
      "\n",
      "{English Opening, Scandinavian Defense} -> {French Defense} (conf: 0.867, supp: 0.154, lift: 1.985, conv: 4.244)\n",
      "\n",
      "{Nimzowitsch Defense, Sicilian Defense} -> {French Defense} (conf: 0.869, supp: 0.157, lift: 1.988, conv: 4.291)\n",
      "\n",
      "{Bishop's Opening, Sicilian Defense} -> {King's Pawn Game} (conf: 0.860, supp: 0.166, lift: 2.038, conv: 4.127)\n",
      "\n",
      "{Bishop's Opening, Queen's Pawn Game} -> {King's Pawn Game} (conf: 0.878, supp: 0.167, lift: 2.080, conv: 4.734)\n",
      "\n",
      "{Bishop's Opening, French Defense} -> {King's Pawn Game} (conf: 0.881, supp: 0.167, lift: 2.087, conv: 4.841)\n",
      "\n",
      "{Bishop's Opening, Scandinavian Defense} -> {King's Pawn Game} (conf: 0.892, supp: 0.150, lift: 2.115, conv: 5.375)\n",
      "\n",
      "{Bishop's Opening, Philidor Defense} -> {King's Pawn Game} (conf: 0.896, supp: 0.155, lift: 2.124, conv: 5.572)\n",
      "\n",
      "{King's Pawn Game, Queen's Pawn Game, Scandinavian Defense} -> {Sicilian Defense} (conf: 0.874, supp: 0.167, lift: 1.766, conv: 4.014)\n",
      "\n",
      "{French Defense, King's Pawn Game, Philidor Defense} -> {Sicilian Defense} (conf: 0.880, supp: 0.177, lift: 1.778, conv: 4.204)\n",
      "\n",
      "{French Defense, Queen's Pawn Game, Scandinavian Defense} -> {Sicilian Defense} (conf: 0.883, supp: 0.173, lift: 1.785, conv: 4.332)\n",
      "\n",
      "{French Defense, Philidor Defense, Queen's Pawn Game} -> {Sicilian Defense} (conf: 0.884, supp: 0.168, lift: 1.785, conv: 4.341)\n",
      "\n",
      "{French Defense, Italian Game, King's Pawn Game} -> {Sicilian Defense} (conf: 0.892, supp: 0.157, lift: 1.802, conv: 4.671)\n",
      "\n",
      "{French Defense, King's Pawn Game, Scandinavian Defense} -> {Sicilian Defense} (conf: 0.892, supp: 0.181, lift: 1.803, conv: 4.697)\n",
      "\n",
      "{French Defense, Italian Game, Queen's Pawn Game} -> {Sicilian Defense} (conf: 0.896, supp: 0.151, lift: 1.810, conv: 4.853)\n",
      "\n",
      "{King's Pawn Game, Philidor Defense, Scandinavian Defense} -> {Sicilian Defense} (conf: 0.899, supp: 0.165, lift: 1.817, conv: 5.012)\n",
      "\n",
      "{Philidor Defense, Queen's Pawn Game, Scandinavian Defense} -> {Sicilian Defense} (conf: 0.906, supp: 0.155, lift: 1.830, conv: 5.372)\n",
      "\n",
      "{French Defense, Italian Game, Philidor Defense} -> {Sicilian Defense} (conf: 0.918, supp: 0.151, lift: 1.854, conv: 6.128)\n",
      "\n",
      "{French Defense, Philidor Defense, Scandinavian Defense} -> {Sicilian Defense} (conf: 0.920, supp: 0.171, lift: 1.859, conv: 6.335)\n",
      "\n",
      "{King's Pawn Game, Queen's Pawn Game, Sicilian Defense} -> {French Defense} (conf: 0.855, supp: 0.180, lift: 1.956, conv: 3.877)\n",
      "\n",
      "{Italian Game, Queen's Pawn Game, Sicilian Defense} -> {French Defense} (conf: 0.856, supp: 0.151, lift: 1.960, conv: 3.921)\n",
      "\n",
      "{Italian Game, King's Pawn Game, Sicilian Defense} -> {French Defense} (conf: 0.859, supp: 0.157, lift: 1.966, conv: 4.001)\n",
      "\n",
      "{King's Pawn Game, Philidor Defense, Sicilian Defense} -> {French Defense} (conf: 0.864, supp: 0.177, lift: 1.977, conv: 4.135)\n",
      "\n",
      "{Italian Game, Philidor Defense, Sicilian Defense} -> {French Defense} (conf: 0.866, supp: 0.151, lift: 1.981, conv: 4.197)\n",
      "\n",
      "{Philidor Defense, Queen's Pawn Game, Sicilian Defense} -> {French Defense} (conf: 0.868, supp: 0.168, lift: 1.985, conv: 4.255)\n",
      "\n",
      "{King's Pawn Game, Queen's Pawn Game, Scandinavian Defense} -> {French Defense} (conf: 0.870, supp: 0.166, lift: 1.991, conv: 4.330)\n",
      "\n",
      "{Queen's Pawn Game, Scandinavian Defense, Sicilian Defense} -> {French Defense} (conf: 0.874, supp: 0.173, lift: 2.001, conv: 4.481)\n",
      "\n",
      "{King's Pawn Game, Scandinavian Defense, Sicilian Defense} -> {French Defense} (conf: 0.878, supp: 0.181, lift: 2.009, conv: 4.622)\n",
      "\n",
      "{King's Pawn Game, Philidor Defense, Scandinavian Defense} -> {French Defense} (conf: 0.881, supp: 0.162, lift: 2.016, conv: 4.730)\n",
      "\n",
      "{French Defense, Queen's Pawn Game, Scandinavian Defense} -> {King's Pawn Game} (conf: 0.851, supp: 0.166, lift: 2.017, conv: 3.881)\n",
      "\n",
      "{Philidor Defense, Queen's Pawn Game, Scandinavian Defense} -> {French Defense} (conf: 0.887, supp: 0.152, lift: 2.030, conv: 4.996)\n",
      "\n",
      "{Philidor Defense, Scandinavian Defense, Sicilian Defense} -> {French Defense} (conf: 0.888, supp: 0.171, lift: 2.031, conv: 5.008)\n",
      "\n",
      "{Philidor Defense, Queen's Pawn Game, Sicilian Defense} -> {King's Pawn Game} (conf: 0.858, supp: 0.166, lift: 2.034, conv: 4.083)\n",
      "\n",
      "{Philidor Defense, Scandinavian Defense, Sicilian Defense} -> {King's Pawn Game} (conf: 0.860, supp: 0.165, lift: 2.037, conv: 4.120)\n",
      "\n",
      "{French Defense, Philidor Defense, Queen's Pawn Game} -> {King's Pawn Game} (conf: 0.873, supp: 0.166, lift: 2.068, conv: 4.540)\n",
      "\n",
      "{French Defense, Philidor Defense, Scandinavian Defense} -> {King's Pawn Game} (conf: 0.873, supp: 0.162, lift: 2.069, conv: 4.561)\n",
      "\n",
      "{Philidor Defense, Queen's Pawn Game, Scandinavian Defense} -> {King's Pawn Game} (conf: 0.890, supp: 0.152, lift: 2.109, conv: 5.259)\n",
      "\n",
      "{French Defense, King's Pawn Game, Queen's Pawn Game, Scandinavian Defense} -> {Sicilian Defense} (conf: 0.908, supp: 0.151, lift: 1.835, conv: 5.493)\n",
      "\n",
      "{French Defense, King's Pawn Game, Philidor Defense, Scandinavian Defense} -> {Sicilian Defense} (conf: 0.927, supp: 0.150, lift: 1.873, conv: 6.933)\n",
      "\n",
      "{King's Pawn Game, Queen's Pawn Game, Scandinavian Defense, Sicilian Defense} -> {French Defense} (conf: 0.904, supp: 0.151, lift: 2.068, conv: 5.845)\n",
      "\n",
      "{French Defense, Queen's Pawn Game, Scandinavian Defense, Sicilian Defense} -> {King's Pawn Game} (conf: 0.875, supp: 0.151, lift: 2.073, conv: 4.617)\n",
      "\n",
      "{King's Pawn Game, Philidor Defense, Scandinavian Defense, Sicilian Defense} -> {French Defense} (conf: 0.908, supp: 0.150, lift: 2.078, conv: 6.141)\n",
      "\n",
      "{French Defense, Philidor Defense, Scandinavian Defense, Sicilian Defense} -> {King's Pawn Game} (conf: 0.880, supp: 0.150, lift: 2.085, conv: 4.808)\n",
      "\n"
     ]
    }
   ],
   "source": [
    "for j in range(len(results)):\n",
    "    print(\"{}\\n\".format(results[j])) # sorted by lift"
   ]
  },
  {
   "cell_type": "code",
   "execution_count": 2,
   "id": "74038a97-138f-4200-a356-5ff3d1b12100",
   "metadata": {},
   "outputs": [
    {
     "ename": "NameError",
     "evalue": "name 'df' is not defined",
     "output_type": "error",
     "traceback": [
      "\u001b[1;31m---------------------------------------------------------------------------\u001b[0m",
      "\u001b[1;31mNameError\u001b[0m                                 Traceback (most recent call last)",
      "\u001b[1;32m~\\AppData\\Local\\Temp\\ipykernel_95216\\1588608975.py\u001b[0m in \u001b[0;36m<module>\u001b[1;34m\u001b[0m\n\u001b[1;32m----> 1\u001b[1;33m \u001b[0mallopenings\u001b[0m \u001b[1;33m=\u001b[0m \u001b[0mdf\u001b[0m\u001b[1;33m[\u001b[0m\u001b[1;34m\"Opening\"\u001b[0m\u001b[1;33m]\u001b[0m\u001b[1;33m.\u001b[0m\u001b[0munique\u001b[0m\u001b[1;33m(\u001b[0m\u001b[1;33m)\u001b[0m\u001b[1;33m\u001b[0m\u001b[1;33m\u001b[0m\u001b[0m\n\u001b[0m\u001b[0;32m      2\u001b[0m \u001b[0mwinrate\u001b[0m \u001b[1;33m=\u001b[0m \u001b[0mdict\u001b[0m\u001b[1;33m.\u001b[0m\u001b[0mfromkeys\u001b[0m\u001b[1;33m(\u001b[0m\u001b[0mallopenings\u001b[0m\u001b[1;33m,\u001b[0m \u001b[1;36m0\u001b[0m\u001b[1;33m)\u001b[0m\u001b[1;33m\u001b[0m\u001b[1;33m\u001b[0m\u001b[0m\n\u001b[0;32m      3\u001b[0m \u001b[0mfrequency\u001b[0m \u001b[1;33m=\u001b[0m \u001b[0mdict\u001b[0m\u001b[1;33m.\u001b[0m\u001b[0mfromkeys\u001b[0m\u001b[1;33m(\u001b[0m\u001b[0mallopenings\u001b[0m\u001b[1;33m,\u001b[0m \u001b[1;36m0\u001b[0m\u001b[1;33m)\u001b[0m\u001b[1;33m\u001b[0m\u001b[1;33m\u001b[0m\u001b[0m\n\u001b[0;32m      4\u001b[0m \u001b[1;32mfor\u001b[0m \u001b[0mindex\u001b[0m\u001b[1;33m,\u001b[0m \u001b[0mrow\u001b[0m \u001b[1;32min\u001b[0m \u001b[0mdf\u001b[0m\u001b[1;33m.\u001b[0m\u001b[0miterrows\u001b[0m\u001b[1;33m(\u001b[0m\u001b[1;33m)\u001b[0m\u001b[1;33m:\u001b[0m\u001b[1;33m\u001b[0m\u001b[1;33m\u001b[0m\u001b[0m\n\u001b[0;32m      5\u001b[0m     \u001b[0mtemp\u001b[0m \u001b[1;33m=\u001b[0m \u001b[0mrow\u001b[0m\u001b[1;33m[\u001b[0m\u001b[1;34m\"Opening\"\u001b[0m\u001b[1;33m]\u001b[0m\u001b[1;33m\u001b[0m\u001b[1;33m\u001b[0m\u001b[0m\n",
      "\u001b[1;31mNameError\u001b[0m: name 'df' is not defined"
     ]
    }
   ],
   "source": [
    "allopenings = df[\"Opening\"].unique()\n",
    "winrate = dict.fromkeys(allopenings, 0)\n",
    "frequency = dict.fromkeys(allopenings, 0)\n",
    "for index, row in df.iterrows():\n",
    "    temp = row[\"Opening\"]\n",
    "    if temp in winrate:\n",
    "        if \"Defense\" in temp:\n",
    "            if row[\"BlackRatingDiff\"] >= 0:\n",
    "                winrate[temp] = winrate[temp] + 1          \n",
    "        else:\n",
    "            if row[\"WhiteRatingDiff\"] >= 0:\n",
    "                winrate[temp] = winrate[temp] + 1\n",
    "        frequency[temp] = frequency[temp] + 1"
   ]
  },
  {
   "cell_type": "code",
   "execution_count": 40,
   "id": "21703cfb-55b4-49f0-b618-702e7e874033",
   "metadata": {},
   "outputs": [],
   "source": [
    "for key in winrate:\n",
    "    winrate[key] = (winrate[key] / frequency[key])\n",
    "    winrate[key] = round(winrate[key], 3)"
   ]
  },
  {
   "cell_type": "code",
   "execution_count": 41,
   "id": "b9e302fd-574c-457d-8718-b2c33d268abf",
   "metadata": {},
   "outputs": [
    {
     "name": "stdout",
     "output_type": "stream",
     "text": [
      "{'Owen Defense': 47.498, 'Hungarian Opening': 48.177, 'Italian Game': 54.792, 'Horwitz Defense': 46.647, 'French Defense': 49.509, 'Scotch Game': 55.236, 'Philidor Defense': 44.312, \"Queen's Pawn Game\": 50.826, 'Center Game': 48.055, 'Budapest Defense': 48.159, \"King's Knight Opening\": 55.39, 'Ruy Lopez': 54.97, 'Sicilian Defense': 52.826, \"King's Gambit Accepted\": 58.497, 'Slav Defense': 44.636, 'Reti Opening': 50.211, \"Van't Kruijs Opening\": 44.708, 'English Opening': 53.113, 'Caro-Kann Defense': 52.336, 'Nimzowitsch Defense': 45.96, 'Three Knights Opening': 51.536, \"Bishop's Opening\": 54.742, 'Scandinavian Defense': 46.175, 'Four Knights Game': 51.373, 'Old Benoni Defense': 49.971, \"King's Pawn Game\": 50.977, 'Robatsch (Modern) Defense': 49.653, \"Queen's Gambit Declined\": 55.604, \"Queen's Pawn\": 54.842, 'East Indian Defense': 57.72, 'Mieses Opening': 38.743, 'Indian Game': 45.601, 'Pirc Defense': 48.894, 'Vienna Game': 52.425, 'Torre Attack': 49.607, 'Saragossa Opening': 41.959, 'Semi-Slav Defense': 45.741, 'Russian Game': 58.765, 'Alekhine Defense': 46.558, \"Queen's Gambit Accepted\": 61.383, \"Queen's Gambit Refused\": 59.377, 'Elephant Gambit': 60.015, 'Modern Defense': 48.632, \"Queen's Gambit\": 65.179, 'Bird Opening': 51.813, 'Blackmar-Diemer Gambit': 46.486, 'St. George Defense': 44.762, 'Zukertort Opening': 51.644, 'Mikenas Defense': 39.555, 'Neo-Gruenfeld Defense': 39.5, 'Tarrasch Defense': 44.641, 'Nimzo-Larsen Attack': 48.494, 'Benoni Defense': 51.393, 'Petrov': 52.605, 'Trompowsky Attack': 48.398, \"King's Gambit Declined\": 58.331, \"Petrov's Defense\": 46.267, 'Dutch Defense': 48.039, 'Polish Defense': 41.486, 'Danish Gambit': 56.005, 'Danish Gambit Accepted': 58.199, 'English Defense': 45.383, 'Rat Defense': 43.392, \"King's Pawn Opening\": 42.589, 'Kadas Opening': 35.47, 'Old Indian Defense': 43.357, 'Giuoco Piano': 47.556, 'Crab Opening': 37.838, 'Englund Gambit': 60.105, 'Nimzo-Indian Defense': 48.055, \"King's Indian Defense\": 49.52, 'Gruenfeld Defense': 53.153, \"Queen's Indian Defense\": 50.222, \"King's Indian Attack\": 55.761, 'Ponziani Opening': 49.765, 'Borg Defense': 36.999, 'Hippopotamus Defense': 27.473, 'Wade Defense': 45.581, 'Van Geet Opening': 49.263, 'Colle System': 49.245, 'Grob Opening': 44.243, 'Franco-Benoni Defense': 46.057, 'Barnes Defense': 39.558, \"King's Gambit\": 61.688, 'Czech Defense': 48.18, 'Kangaroo Defense': 37.574, 'Paleface Attack': 37.881, 'Ware Defense': 34.76, 'Gunderam Defense': 35.877, 'Mexican Defense': 42.927, 'Englund Gambit Complex': 56.253, 'Slav Indian': 50.938, 'Polish Opening': 52.722, \"King's Pawn\": 74.379, 'Amazon Attack': 36.344, 'Anderssen Opening': 48.996, 'Goldsmith Defense': 32.731, 'Clemenz Opening': 46.127, 'Canard Opening': 47.833, 'Englund Gambit Declined': 46.423, 'Blackmar-Diemer Gambit Declined': 43.048, 'Englund Gambit Complex Declined': 57.403, 'Ware Opening': 46.987, 'Portuguese Opening': 42.308, 'Duras Gambit': 60.696, 'Amar Opening': 32.041, \"Queen's Indian Accelerated\": 51.667, 'Robatsch Defense': 51.064, 'Sodium Attack': 36.889, 'Nimzowitsch-Larsen Attack': 52.256, 'Creepy Crawly Formation': 42.446, 'London System': 49.047, 'Latvian Gambit': 53.219, 'Richter-Veresov Attack': 49.336, 'Latvian Gambit Accepted': 55.639, 'Benko Gambit': 42.857, 'Carr Defense': 40.406, \"Queen's Pawn Opening\": 40.688, 'Barnes Opening': 39.847, 'Benko Gambit Accepted': 51.59, 'Yusupov-Rubinstein System': 51.014, 'Semi-Bononi': 56.742, \"Gedult's Opening\": 34.712, 'Bogo-Indian Defense': 44.744, 'Irish Gambit': 21.739, 'System': 51.852, 'Catalan Opening': 55.705, 'Pterodactyl Defense': 44.843, 'Lion Defense': 52.158, 'Danish Gambit Declined': 39.565, 'Guatemala Defense': 31.818, 'Rubinstein Opening': 49.383, 'Blumenfeld Countergambit': 50.155, 'Center Game Accepted': 35.371, 'Blackmar-Diemer': 79.032, 'Old Indian': 59.307, 'Scotch Gambit': 70.803, 'English Orangutan': 52.273, 'Vulture Defense': 51.351, 'Lemming Defense': 20.0, 'Zukertort Defense': 34.615, 'Valencia Opening': 41.026, 'Montevideo Defense': 32.258, 'Semi-Slav Defense Accepted': 47.619, 'Global Opening': 52.907, 'Doery Defense': 27.027, 'Tayler Opening': 50.0, 'Lasker Simul Special': 36.0, 'Australian Defense': 28.571, \"King's Indian\": 65.714, 'Ruy Lopez Defense': 25.0, 'Marienbad System': 0.0, 'Venezolana Opening': 100.0, 'Norwegian Defense': 100.0, 'Amsterdam Attack': 100.0, 'Benko Gambit Declined': 26.531, 'Bronstein Gambit': 25.0, 'Borg Opening': 72.727, 'Blumenfeld Countergambit Accepted': 50.0, 'English Rat': 0.0, 'Zaire Defense': 40.0, 'Boden-Kieseritzky Gambit': 50.0, 'Four Knights': 100.0}\n"
     ]
    }
   ],
   "source": [
    "print(winrates)"
   ]
  },
  {
   "cell_type": "code",
   "execution_count": 1,
   "id": "f0d49ae0-44f7-4a5a-a4e1-bad3d679de52",
   "metadata": {},
   "outputs": [
    {
     "ename": "NameError",
     "evalue": "name 'frequency' is not defined",
     "output_type": "error",
     "traceback": [
      "\u001b[1;31m---------------------------------------------------------------------------\u001b[0m",
      "\u001b[1;31mNameError\u001b[0m                                 Traceback (most recent call last)",
      "\u001b[1;32m~\\AppData\\Local\\Temp\\ipykernel_95216\\484709830.py\u001b[0m in \u001b[0;36m<module>\u001b[1;34m\u001b[0m\n\u001b[1;32m----> 1\u001b[1;33m \u001b[0mprint\u001b[0m\u001b[1;33m(\u001b[0m\u001b[0mfrequency\u001b[0m\u001b[1;33m)\u001b[0m\u001b[1;33m\u001b[0m\u001b[1;33m\u001b[0m\u001b[0m\n\u001b[0m",
      "\u001b[1;31mNameError\u001b[0m: name 'frequency' is not defined"
     ]
    }
   ],
   "source": []
  },
  {
   "cell_type": "code",
   "execution_count": null,
   "id": "edd46327",
   "metadata": {},
   "outputs": [],
   "source": []
  }
 ],
 "metadata": {
  "kernelspec": {
   "display_name": "Python 3 (ipykernel)",
   "language": "python",
   "name": "python3"
  },
  "language_info": {
   "codemirror_mode": {
    "name": "ipython",
    "version": 3
   },
   "file_extension": ".py",
   "mimetype": "text/x-python",
   "name": "python",
   "nbconvert_exporter": "python",
   "pygments_lexer": "ipython3",
   "version": "3.7.3"
  }
 },
 "nbformat": 4,
 "nbformat_minor": 5
}
