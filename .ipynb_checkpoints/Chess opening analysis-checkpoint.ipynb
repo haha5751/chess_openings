{
 "cells": [
  {
   "cell_type": "code",
   "execution_count": 19,
   "id": "a92635f9",
   "metadata": {},
   "outputs": [],
   "source": [
    "import chess.pgn\n",
    "import pandas as pd\n",
    "import matplotlib.pyplot as plt\n",
    "import numpy as np\n",
    "import lichess.api\n",
    "from lichess.format import PGN\n",
    "import json\n",
    "\n",
    "pgn = open(\"lichess_db_standard_rated_2016-05.pgn\")\n",
    "#print(len(pgn))\n",
    "users = {}\n",
    "#dfGames = pd.DataFrame(columns = ['Event', 'White', 'Black', 'Opening', 'WhiteElo', 'BlackElo'])\n",
    "games_arr = []\n",
    "for x in range(6000000):\n",
    "    headers = chess.pgn.read_headers(pgn)\n",
    "    if headers.get('Event') == \"Rated Classical game\":\n",
    "        row = [headers.get('Event'), headers.get('White'), headers.get('Black'), headers.get('Opening'), headers.get('WhiteElo'), headers.get('BlackElo')]\n",
    "        games_arr.append(row)\n",
    "        #dfGames = dfGames.append(pd.Series(row, index = ['Event', 'White', 'Black', 'Opening', 'WhiteElo', 'BlackElo']), ignore_index = True)\n",
    "        \n",
    "        if users.get(headers.get('White')):\n",
    "            users[headers.get('White')].append(headers.get('Opening'))\n",
    "        else:\n",
    "            users[headers.get('White')] = [headers.get('Opening')]\n",
    "        \n",
    "        if users.get(headers.get('Black')):\n",
    "            users[headers.get('Black')].append(headers.get('Opening'))\n",
    "        else:\n",
    "            users[headers.get('Black')] = [headers.get('Opening')]\n",
    "            \n",
    "# dfGames.to_csv('out.csv', encoding='utf-8', index=False)\n",
    "with open('users.txt','w') as data: \n",
    "    data.write(str(users))"
   ]
  },
  {
   "cell_type": "code",
   "execution_count": 23,
   "id": "8f3f8eae",
   "metadata": {},
   "outputs": [
    {
     "name": "stdout",
     "output_type": "stream",
     "text": [
      "39.62776699798044\n"
     ]
    }
   ],
   "source": [
    "from lichess.format import PYCHESS\n",
    "basket_size_sum = 0\n",
    "count = 0\n",
    "for k in users:\n",
    "    count += 1\n",
    "    basket_size_sum += len(users[k])\n",
    "    \n",
    "print(basket_size_sum/count)"
   ]
  },
  {
   "cell_type": "code",
   "execution_count": 7,
   "id": "0970f485",
   "metadata": {},
   "outputs": [],
   "source": [
    "basketMap = {}\n",
    "for user in users:\n",
    "    try:\n",
    "        pgns = lichess.api.user_games(user, max=20, format=PYCHESS)\n",
    "    except:\n",
    "        continue\n",
    "    openings = set()\n",
    "    for pgn in pgns:\n",
    "        if pgn.headers.get('Event') == \"Rated Classical game\":\n",
    "            #print(pgn.headers.get('Opening'))\n",
    "            openings.add(pgn.headers.get('Opening'))\n",
    "    basketMap[user] = list(openings)"
   ]
  },
  {
   "cell_type": "code",
   "execution_count": 3,
   "id": "b01cc604",
   "metadata": {},
   "outputs": [
    {
     "name": "stdout",
     "output_type": "stream",
     "text": [
      "Headers(Event='Rated Bullet tournament https://lichess.org/tournament/IaRkDsvp', Site='https://lichess.org/r0cYFhsy', White='GreatGig', Black='hackattack', Result='0-1', BlackElo='1809', BlackRatingDiff='+11', ECO='B01', Opening='Scandinavian Defense: Mieses-Kotroc Variation', Termination='Time forfeit', TimeControl='60+0', UTCDate='2016.04.30', UTCTime='22:00:03', WhiteElo='1777', WhiteRatingDiff='-11')\n",
      "GreatGig\n"
     ]
    }
   ],
   "source": [
    "import chess.pgn\n",
    "pgn = open(\"lichess_db_standard_rated_2016-05.pgn\")\n",
    "for x in range(1):\n",
    "    headers = chess.pgn.read_headers(pgn)\n",
    "print(headers)\n",
    "print(headers.get('White'))"
   ]
  },
  {
   "cell_type": "code",
   "execution_count": 21,
   "id": "80ea0fff",
   "metadata": {},
   "outputs": [],
   "source": [
    "dfGames = pd.DataFrame(games_arr, columns = ['Event', 'White', 'Black', 'Opening', 'WhiteElo', 'BlackElo'])"
   ]
  },
  {
   "cell_type": "code",
   "execution_count": 22,
   "id": "35d0b391",
   "metadata": {},
   "outputs": [
    {
     "name": "stdout",
     "output_type": "stream",
     "text": [
      "1501080\n"
     ]
    }
   ],
   "source": [
    "print(len(games_arr))\n",
    "dfGames.to_csv('out.csv', encoding='utf-8', index=False)"
   ]
  },
  {
   "cell_type": "code",
   "execution_count": 24,
   "id": "c46154b4",
   "metadata": {},
   "outputs": [
    {
     "ename": "TypeError",
     "evalue": "'dict_keys' object is not subscriptable",
     "output_type": "error",
     "traceback": [
      "\u001b[1;31m---------------------------------------------------------------------------\u001b[0m",
      "\u001b[1;31mTypeError\u001b[0m                                 Traceback (most recent call last)",
      "\u001b[1;32m~\\AppData\\Local\\Temp\\ipykernel_16436\\2010354187.py\u001b[0m in \u001b[0;36m<module>\u001b[1;34m\u001b[0m\n\u001b[0;32m      1\u001b[0m \u001b[1;32mfor\u001b[0m \u001b[0mi\u001b[0m \u001b[1;32min\u001b[0m \u001b[0mrange\u001b[0m\u001b[1;33m(\u001b[0m\u001b[1;36m5\u001b[0m\u001b[1;33m)\u001b[0m\u001b[1;33m:\u001b[0m\u001b[1;33m\u001b[0m\u001b[1;33m\u001b[0m\u001b[0m\n\u001b[0;32m      2\u001b[0m     \u001b[0mkeys\u001b[0m \u001b[1;33m=\u001b[0m \u001b[0musers\u001b[0m\u001b[1;33m.\u001b[0m\u001b[0mkeys\u001b[0m\u001b[1;33m(\u001b[0m\u001b[1;33m)\u001b[0m\u001b[1;33m\u001b[0m\u001b[1;33m\u001b[0m\u001b[0m\n\u001b[1;32m----> 3\u001b[1;33m     \u001b[0mprint\u001b[0m\u001b[1;33m(\u001b[0m\u001b[0mkeys\u001b[0m\u001b[1;33m[\u001b[0m\u001b[0mi\u001b[0m\u001b[1;33m]\u001b[0m\u001b[1;33m,\u001b[0m \u001b[0musers\u001b[0m\u001b[1;33m[\u001b[0m\u001b[0mkeys\u001b[0m\u001b[1;33m[\u001b[0m\u001b[0mi\u001b[0m\u001b[1;33m]\u001b[0m\u001b[1;33m]\u001b[0m\u001b[1;33m)\u001b[0m\u001b[1;33m\u001b[0m\u001b[1;33m\u001b[0m\u001b[0m\n\u001b[0m",
      "\u001b[1;31mTypeError\u001b[0m: 'dict_keys' object is not subscriptable"
     ]
    }
   ],
   "source": [
    "for i in range(5):\n",
    "    keys = users.keys()\n",
    "    print(keys[i], users[keys[i]])"
   ]
  },
  {
   "cell_type": "code",
   "execution_count": null,
   "id": "73afadaa",
   "metadata": {},
   "outputs": [],
   "source": []
  }
 ],
 "metadata": {
  "kernelspec": {
   "display_name": "Python 3 (ipykernel)",
   "language": "python",
   "name": "python3"
  },
  "language_info": {
   "codemirror_mode": {
    "name": "ipython",
    "version": 3
   },
   "file_extension": ".py",
   "mimetype": "text/x-python",
   "name": "python",
   "nbconvert_exporter": "python",
   "pygments_lexer": "ipython3",
   "version": "3.7.3"
  }
 },
 "nbformat": 4,
 "nbformat_minor": 5
}
